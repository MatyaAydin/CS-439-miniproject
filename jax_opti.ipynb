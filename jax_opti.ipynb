{
 "cells": [
  {
   "cell_type": "code",
   "execution_count": 1,
   "id": "1d9e84fc",
   "metadata": {},
   "outputs": [],
   "source": [
    "import jax.numpy as jnp\n",
    "import jax\n",
    "\n",
    "class PRNGSequence:\n",
    "    def __init__(self, seed):\n",
    "        self._key = jax.random.PRNGKey(seed)\n",
    "    \n",
    "    def next(self):\n",
    "        self._key, subkey = jax.random.split(self._key)\n",
    "        return subkey\n",
    "keys = PRNGSequence(100)\n",
    "\n",
    "x = jax.random.normal(keys.next(), (3,))\n",
    "\n",
    "\n",
    "params = jnp.array([1.0, 2.0, 3.0])\n",
    "\n",
    "def model(params, x):\n",
    "    return x[:, 0] * params[0] + x[:, 1] * params[1] + x[:, 2] * params[2]\n",
    "\n",
    "def loss(y_pred, y_true):\n",
    "    return jnp.mean((y_pred - y_true) ** 2)"
   ]
  },
  {
   "cell_type": "code",
   "execution_count": 2,
   "id": "624a4362",
   "metadata": {},
   "outputs": [],
   "source": [
    "x = jnp.array([[1.0, 2.0, 3.0], [4.0, 5.0, 6.0]])\n",
    "y_true = jnp.array([[1.0], [2.0]])"
   ]
  },
  {
   "cell_type": "code",
   "execution_count": 3,
   "id": "70eb640e",
   "metadata": {},
   "outputs": [],
   "source": [
    "\n",
    "def loss_at_params(params):\n",
    "    y_pred = model(params, x)\n",
    "    return loss(y_pred, y_true)"
   ]
  },
  {
   "cell_type": "code",
   "execution_count": 4,
   "id": "7e405260",
   "metadata": {},
   "outputs": [],
   "source": [
    "from dataclasses import dataclass\n",
    "\n",
    "\n",
    "@dataclass\n",
    "class GradientDescentState:\n",
    "    params: jnp.ndarray\n",
    "    step_size: float\n",
    "    iteration: int = 0\n",
    "def gradient_descent_step(state: GradientDescentState):\n",
    "    grad = jax.grad(loss_at_params)(state.params)\n",
    "    new_params = state.params - state.step_size * grad\n",
    "    \n",
    "    return GradientDescentState(new_params, state.step_size, state.iteration + 1)"
   ]
  },
  {
   "cell_type": "code",
   "execution_count": 5,
   "id": "cffd3299",
   "metadata": {},
   "outputs": [
    {
     "name": "stdout",
     "output_type": "stream",
     "text": [
      "Iteration 1: params = [-0.34500003  0.22500002  0.7950001 ], loss = 5.285163879394531\n",
      "Iteration 2: params = [-0.47550005  0.05445001  0.58440006], loss = 0.32736244797706604\n",
      "Iteration 3: params = [-0.48943207  0.03788549  0.5652031 ], loss = 0.28132766485214233\n",
      "Iteration 4: params = [-0.49216825  0.03610065  0.56436956], loss = 0.28053900599479675\n",
      "Iteration 5: params = [-0.49382156  0.03573543  0.5652925 ], loss = 0.2801714539527893\n",
      "Iteration 6: params = [-0.49536267  0.03550761  0.56637794], loss = 0.2798120081424713\n",
      "Iteration 7: params = [-0.49688473  0.03529412  0.56747305], loss = 0.2794569134712219\n",
      "Iteration 8: params = [-0.49839675  0.03508317  0.56856316], loss = 0.279106080532074\n",
      "Iteration 9: params = [-0.49989966  0.0348736   0.56964695], loss = 0.2787593901157379\n",
      "Iteration 10: params = [-0.50139356  0.03466528  0.57072425], loss = 0.27841684222221375\n"
     ]
    }
   ],
   "source": [
    "state = GradientDescentState(params, step_size=0.01)\n",
    "for i in range(10):\n",
    "    state = gradient_descent_step(state)\n",
    "    print(f\"Iteration {state.iteration}: params = {state.params}, loss = {loss_at_params(state.params)}\")"
   ]
  },
  {
   "cell_type": "markdown",
   "id": "67ae5584",
   "metadata": {},
   "source": [
    "![image.png](attachment:image.png)"
   ]
  },
  {
   "cell_type": "code",
   "execution_count": 6,
   "id": "d3ea6058",
   "metadata": {},
   "outputs": [],
   "source": [
    "#algorithm 1: Hessian-aware scaling selection\n",
    "\n",
    "def scaling_selection(g, H, sigma, constant_learning_rate=True):\n",
    "    \n",
    "    Hg =jnp.dot(H, g)\n",
    "    dot_product =jnp.dot(g, Hg)\n",
    "    norm_g =jnp.linalg.norm(g)\n",
    "\n",
    "    if constant_learning_rate:\n",
    "        s_lpc_min = 1 / sigma #set to 1/sigma for constant learning rate\n",
    "        s_lpc_max = 1 / sigma #set to 1/sigma for constant learning rate\n",
    "    else:\n",
    "        s_lpc_min = 1 / sigma *jax.random.random(keys.next())\n",
    "\n",
    "    s_CG =jnp.linalg.norm(g)**2 / dot_product\n",
    "    s_MR = dot_product /jnp.linalg.norm(Hg)**2\n",
    "    s_GM =jnp.sqrt(s_CG * s_MR)\n",
    "\n",
    "    if dot_product > sigma * norm_g**2:\n",
    "        spc =jax.random.choice(keys.next(), a=jnp.array([s_CG, s_MR, s_GM]))\n",
    "        return -spc*g, \"SPC\"\n",
    "    elif 0 < dot_product and dot_product < sigma * norm_g**2:\n",
    "        slpc =jax.random.uniform(keys.next(), s_lpc_min, 1 / sigma)\n",
    "        return -slpc * g, \"LPC\"\n",
    "    else:\n",
    "        snc =jax.random.uniform(keys.next(), s_lpc_min, s_lpc_max)\n",
    "        return -snc * g, \"NC\""
   ]
  },
  {
   "cell_type": "markdown",
   "id": "cd2ef2a4",
   "metadata": {},
   "source": [
    "![image.png](attachment:image.png)"
   ]
  },
  {
   "cell_type": "markdown",
   "id": "0e947329",
   "metadata": {},
   "source": [
    "![image.png](attachment:image.png)"
   ]
  },
  {
   "cell_type": "code",
   "execution_count": 7,
   "id": "e559b87f",
   "metadata": {},
   "outputs": [],
   "source": [
    "#algorithm 3 backward tracking line search\n",
    "\n",
    "def backtracking_LS(loss_at_params, theta, rho, x, g, p):\n",
    "\n",
    "    alpha = 1.0\n",
    "    while loss_at_params(x + alpha * p) > loss_at_params(x) + alpha * rho *jnp.dot(g, p):\n",
    "        alpha *= theta\n",
    "\n",
    "\n",
    "    return alpha\n"
   ]
  },
  {
   "cell_type": "markdown",
   "id": "d911090e",
   "metadata": {},
   "source": [
    "![image.png](attachment:image.png)"
   ]
  },
  {
   "cell_type": "code",
   "execution_count": 8,
   "id": "617a0dc0",
   "metadata": {},
   "outputs": [],
   "source": [
    "# algorithm 4 forward/backward tracking line search\n",
    "\n",
    "def forward_backward_LS(loss_at_params, theta, rho, x, g, p):\n",
    "    alpha = 1.0\n",
    "    if loss_at_params(x + alpha * p) > loss_at_params(x) + alpha * rho *jnp.dot(g, p):\n",
    "        backtracking_LS(loss_at_params, theta, rho, x, g, p)\n",
    "    else:\n",
    "        while loss_at_params(x + alpha * p) >= loss_at_params(x) + alpha * rho *jnp.dot(g, p):\n",
    "            alpha /= theta\n",
    "\n",
    "    return alpha * theta\n",
    "\n",
    "    "
   ]
  },
  {
   "cell_type": "code",
   "execution_count": null,
   "id": "b7dd0148",
   "metadata": {},
   "outputs": [],
   "source": []
  },
  {
   "cell_type": "markdown",
   "id": "93030f16",
   "metadata": {},
   "source": [
    "![image.png](attachment:image.png)"
   ]
  },
  {
   "cell_type": "code",
   "execution_count": 9,
   "id": "1aac0945",
   "metadata": {},
   "outputs": [],
   "source": [
    "# algorithm 2: scaled gradient descent with line search\n",
    "\n",
    "\n",
    "def scaled_GD(loss_at_params, x0, sigma, rho, theta_bt, theta_fb, MAX_ITER, eps):\n",
    "    \"\"\"\n",
    "    sigma <<< 1\n",
    "    0 < theta < 1\n",
    "    0 < rho < 1/2\n",
    "    \"\"\"\n",
    "\n",
    "    x_k = x0\n",
    "    flag_distribution = {\"SPC\": 0, \"LPC\": 0, \"NC\": 0}\n",
    "\n",
    "\n",
    "    for _ in range(MAX_ITER):\n",
    "\n",
    "        g_k = 2 * x_k\n",
    "\n",
    "        if jnp.linalg.norm(g_k) < eps:\n",
    "            break\n",
    "        \n",
    "\n",
    "        p_k, FLAG = scaling_selection(g_k,jnp.eye(len(x_k)), sigma)\n",
    "        flag_distribution[FLAG] += 1\n",
    "\n",
    "        if FLAG == \"SPC\" or FLAG == \"LPC\":\n",
    "            alpha_k = backtracking_LS(loss_at_params, theta_bt, rho, x_k, g_k, p_k)\n",
    "\n",
    "        else:\n",
    "            alpha_k = forward_backward_LS(loss_at_params, theta_fb, rho, x_k, g_k, p_k)\n",
    "\n",
    "        x_k += alpha_k * p_k\n",
    "\n",
    "    return x_k, flag_distribution"
   ]
  },
  {
   "cell_type": "code",
   "execution_count": 10,
   "id": "981ab85d",
   "metadata": {},
   "outputs": [],
   "source": [
    "#algorithm 3 backward tracking line search\n",
    "\n",
    "def backtracking_LS(loss_at_params, theta, rho, x, g, p):\n",
    "\n",
    "    alpha = 1.0\n",
    "    while loss_at_params(x + alpha * p) > loss_at_params(x) + alpha * rho *jnp.dot(g, p):\n",
    "        alpha *= theta\n",
    "\n",
    "\n",
    "    return alpha\n"
   ]
  },
  {
   "cell_type": "code",
   "execution_count": 17,
   "id": "8d0b3391",
   "metadata": {},
   "outputs": [],
   "source": [
    "@dataclass\n",
    "class FirstishOrderMethodState:\n",
    "    params: jnp.ndarray\n",
    "    sigma: float = 0.1\n",
    "    rho: float = 0.25\n",
    "    theta_bt: float = 0.5\n",
    "    theta_fb: float = 0.5\n",
    "    iteration: int = 0\n",
    "\n",
    "def firstish_order_step(state: FirstishOrderMethodState) -> FirstishOrderMethodState:\n",
    "    grad = jax.grad(loss_at_params)(state.params)\n",
    "    hess = jax.hessian(loss_at_params)(state.params)\n",
    "    p, flag = scaling_selection(grad, hess, state.sigma)\n",
    "    \n",
    "    if flag == \"SPC\" or flag == \"LPC\":\n",
    "        alpha = backtracking_LS(loss_at_params, state.theta_bt, state.rho, state.params, grad, p)\n",
    "    else:\n",
    "        alpha = forward_backward_LS(loss_at_params, state.theta_fb, state.rho, state.params, grad, p)\n",
    "\n",
    "    new_params = state.params + alpha * p\n",
    "    return FirstishOrderMethodState(new_params, state.sigma, state.rho, state.theta_bt, state.theta_fb, state.iteration + 1)"
   ]
  },
  {
   "cell_type": "code",
   "execution_count": 18,
   "id": "411741b6",
   "metadata": {},
   "outputs": [
    {
     "name": "stdout",
     "output_type": "stream",
     "text": [
      "Iteration 1: params = [-0.48778844  0.03656185  0.5609119 ], loss = 0.281612366437912\n",
      "Iteration 2: params = [-7.499069e-01  1.077950e-04  7.501223e-01], loss = 0.25000157952308655\n",
      "Iteration 3: params = [-7.4998719e-01  1.8469073e-06  7.4999070e-01], loss = 0.25\n",
      "Iteration 4: params = [-7.4998826e-01  1.7124412e-06  7.4999154e-01], loss = 0.25\n",
      "Iteration 5: params = [-7.4998844e-01  1.6258019e-06  7.4999154e-01], loss = 0.25\n",
      "Iteration 6: params = [-7.4998850e-01  1.6472990e-06  7.4999166e-01], loss = 0.25\n",
      "Iteration 7: params = [-7.4999940e-01  1.4632974e-07  7.4999952e-01], loss = 0.25\n",
      "Iteration 8: params = [-7.4999940e-01  1.4218756e-07  7.4999952e-01], loss = 0.25\n",
      "Iteration 9: params = [-7.4999940e-01  1.3574382e-07  7.4999952e-01], loss = 0.25\n",
      "Iteration 10: params = [-7.4999940e-01  1.3160164e-07  7.4999952e-01], loss = 0.25\n"
     ]
    }
   ],
   "source": [
    "\n",
    "state = FirstishOrderMethodState(params)\n",
    "for i in range(10):\n",
    "    state = firstish_order_step(state)\n",
    "    print(f\"Iteration {state.iteration}: params = {state.params}, loss = {loss_at_params(state.params)}\")"
   ]
  }
 ],
 "metadata": {
  "kernelspec": {
   "display_name": "default",
   "language": "python",
   "name": "python3"
  },
  "language_info": {
   "codemirror_mode": {
    "name": "ipython",
    "version": 3
   },
   "file_extension": ".py",
   "mimetype": "text/x-python",
   "name": "python",
   "nbconvert_exporter": "python",
   "pygments_lexer": "ipython3",
   "version": "3.13.3"
  }
 },
 "nbformat": 4,
 "nbformat_minor": 5
}
