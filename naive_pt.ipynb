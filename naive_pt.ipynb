{
 "cells": [
  {
   "cell_type": "code",
   "execution_count": 15,
   "id": "2cdbcc7d",
   "metadata": {},
   "outputs": [],
   "source": [
    "\n",
    "import torch\n",
    "import numpy as np\n",
    "import matplotlib.pyplot as plt\n",
    "\n",
    "#from lab 6:\n",
    "from helper import generate_dataset, visualize_one_dataset, visualize_datasets, predict_grid, visualize_predictions\n",
    "from torch.utils import data"
   ]
  },
  {
   "cell_type": "code",
   "execution_count": 16,
   "id": "9f81968f",
   "metadata": {},
   "outputs": [],
   "source": [
    "\n",
    "\n",
    "def scaling_selection(g, H, sigma, constant_learning_rate=True):\n",
    "\n",
    "    Hg = torch.matmul(H, g)\n",
    "    dot_product = torch.dot(g, Hg)\n",
    "    norm_g = torch.norm(g)\n",
    "\n",
    "    if constant_learning_rate:\n",
    "        s_lpc_min = 1 / sigma\n",
    "        s_lpc_max = 1 / sigma\n",
    "    else:\n",
    "        s_lpc_min = (1 / sigma) * torch.rand(1).item()\n",
    "        s_lpc_max = 1 / sigma\n",
    "\n",
    "    s_CG = norm_g**2 / dot_product\n",
    "    s_MR = dot_product / torch.norm(Hg)**2\n",
    "    s_GM = torch.sqrt(s_CG * s_MR)\n",
    "\n",
    "    if dot_product > sigma * norm_g**2:\n",
    "        spc = torch.tensor([s_CG, s_MR, s_GM])[torch.randint(0, 3, (1,)).item()]\n",
    "        return -spc * g, \"SPC\"\n",
    "    elif dot_product > 0 and dot_product < sigma * norm_g**2:\n",
    "        slpc = torch.empty(1).uniform_(s_lpc_min, 1 / sigma).item()\n",
    "        return -slpc * g, \"LPC\"\n",
    "    else:\n",
    "        snc = torch.empty(1).uniform_(s_lpc_min, s_lpc_max).item()\n",
    "        return -snc * g, \"NC\"\n"
   ]
  },
  {
   "cell_type": "code",
   "execution_count": 17,
   "id": "a274d6f5",
   "metadata": {},
   "outputs": [],
   "source": [
    "#algorithm 3 backward tracking line search\n",
    "\n",
    "def backtracking_LS(model, theta, rho, x, g, p):\n",
    "\n",
    "    alpha = 1.0\n",
    "    while model(x + alpha * p) > model(x) + alpha * rho * torch.dot(g, p):\n",
    "        alpha *= theta\n",
    "\n",
    "\n",
    "    return alpha\n"
   ]
  },
  {
   "cell_type": "code",
   "execution_count": 18,
   "id": "84e9c28b",
   "metadata": {},
   "outputs": [],
   "source": [
    "# algorithm 4 forward/backward tracking line search\n",
    "\n",
    "def forward_backward_LS(model, theta, rho, x, g, p):\n",
    "\n",
    "\n",
    "    alpha = 1.0\n",
    "    if model(x + alpha * p) > model(x) + alpha * rho * torch.dot(g, p):\n",
    "        backtracking_LS(model, theta, rho, x, g, p)\n",
    "    else:\n",
    "        while model(x + alpha * p) >= model(x) + alpha * rho * torch.dot(g, p):\n",
    "            alpha /= theta\n",
    "\n",
    "    return alpha * theta\n",
    "\n",
    "    "
   ]
  },
  {
   "cell_type": "code",
   "execution_count": 19,
   "id": "2825e6d8",
   "metadata": {},
   "outputs": [],
   "source": [
    "# algorithm 2: scaled gradient descent with line search\n",
    "\n",
    "def scaled_GD_norm_squared(model, x0, sigma, rho, theta_bt, theta_fb, MAX_ITER, eps):\n",
    "    \"\"\"\n",
    "    sigma <<< 1\n",
    "    0 < theta < 1\n",
    "    0 < rho < 1/2\n",
    "    \"\"\"\n",
    "\n",
    "    x_k = x0.clone()\n",
    "    flag_distribution = {\"SPC\": 0, \"LPC\": 0, \"NC\": 0}\n",
    "\n",
    "    for _ in range(MAX_ITER):\n",
    "        g_k = 2 * x_k\n",
    "\n",
    "        if torch.norm(g_k) < eps:\n",
    "            break\n",
    "\n",
    "        # Use identity matrix as Hessian approximation\n",
    "        H_k = torch.eye(len(x_k), dtype=x_k.dtype, device=x_k.device)\n",
    "        p_k, FLAG = scaling_selection(g_k, H_k, sigma)\n",
    "        flag_distribution[FLAG] += 1\n",
    "\n",
    "        if FLAG in [\"SPC\", \"LPC\"]:\n",
    "            alpha_k = backtracking_LS(model, theta_bt, rho, x_k, g_k, p_k)\n",
    "        else:\n",
    "            alpha_k = forward_backward_LS(model, theta_fb, rho, x_k, g_k, p_k)\n",
    "\n",
    "        x_k = x_k + alpha_k * p_k\n",
    "\n",
    "    return x_k, flag_distribution\n"
   ]
  },
  {
   "cell_type": "code",
   "execution_count": 20,
   "id": "b18f29ef",
   "metadata": {},
   "outputs": [],
   "source": [
    "class NormSquaredModel(torch.nn.Module):\n",
    "    def __init__(self):\n",
    "        super().__init__()\n",
    "\n",
    "    def forward(self, x):\n",
    "        return torch.norm(x)**2"
   ]
  },
  {
   "cell_type": "code",
   "execution_count": 21,
   "id": "00c13676",
   "metadata": {},
   "outputs": [
    {
     "data": {
      "text/plain": [
       "(tensor([-5.4210e-20, -6.7763e-21, -6.7763e-21, -1.3553e-20, -1.3553e-20,\n",
       "          6.7763e-21, -1.3553e-20,  1.3553e-20, -2.1176e-22, -6.7763e-21]),\n",
       " {'SPC': 3, 'LPC': 0, 'NC': 0})"
      ]
     },
     "execution_count": 21,
     "metadata": {},
     "output_type": "execute_result"
    }
   ],
   "source": [
    "#try with ||x||² for now\n",
    "model = NormSquaredModel()\n",
    "\n",
    "sigma = 0.1\n",
    "theta_bt = 0.5\n",
    "theta_fb = 0.5\n",
    "rho = 0.25\n",
    "\n",
    "MAX_ITER = 1000\n",
    "eps = 1e-12\n",
    "\n",
    "x_0 = 10 * torch.randn(10)\n",
    "\n",
    "\n",
    "\n",
    "x_star, flag_distribution = scaled_GD_norm_squared(model, x_0, sigma, rho, theta_bt, theta_fb, MAX_ITER, eps)\n",
    "\n",
    "x_star, flag_distribution"
   ]
  },
  {
   "cell_type": "code",
   "execution_count": 22,
   "id": "21b42767",
   "metadata": {},
   "outputs": [],
   "source": [
    "# must define a classification/regression task and make scaled_gd overwrite torch.optim.Optimizer\n",
    "# https://www.geeksforgeeks.org/custom-optimizers-in-pytorch/\n",
    "\n",
    "class SimpleMLP(torch.nn.Sequential):\n",
    "    def __init__(self, hidden_dim):\n",
    "        self.name = 'NN'\n",
    "        self.num_classes = 2\n",
    "        # ***************************************************\n",
    "        # INSERT YOUR CODE HERE\n",
    "        # TODO: Define your neural network model with ReLU\n",
    "        # HINT: Use torch.nn.Sequential and torch.nn.ReLU\n",
    "        # ***************************************************\n",
    "        super().__init__(\n",
    "            torch.nn.Linear(2, hidden_dim),\n",
    "            torch.nn.ReLU(),\n",
    "            torch.nn.Linear(hidden_dim, self.num_classes),\n",
    "        )\n",
    "        \n",
    "    def init_params(self, train_data):\n",
    "        ''' No need to do anything since it is taken care of by torch.nn.Sequential'''"
   ]
  },
  {
   "cell_type": "code",
   "execution_count": 58,
   "id": "4cbe169f",
   "metadata": {},
   "outputs": [],
   "source": [
    "class Scaled_GD_Optimizer(torch.optim.Optimizer):\n",
    "    def __init__(self, params, sigma, rho, theta_bt, theta_fb):\n",
    "        defaults = dict(sigma=sigma, rho=rho, theta_bt=theta_bt, theta_fb=theta_fb, eps=eps)\n",
    "        super().__init__(params, defaults)\n",
    "\n",
    "    def step(self, closure):\n",
    "        loss = closure()\n",
    "\n",
    "        with torch.no_grad():\n",
    "            for group in self.param_groups:\n",
    "                sigma = group[\"sigma\"]\n",
    "                rho = group[\"rho\"]\n",
    "                theta_bt = group[\"theta_bt\"]\n",
    "                theta_fb = group[\"theta_fb\"]\n",
    "\n",
    "                for p in group['params']:\n",
    "                    if p.grad is None:\n",
    "                        continue\n",
    "\n",
    "                    x_k = p.data.data.flatten().clone()\n",
    "                    g_k = p.grad.data.flatten().clone()\n",
    "\n",
    "                    g_k.require_grad = True\n",
    "                    x_k.require_grad = True\n",
    "\n",
    "\n",
    "                    H_k = torch.eye(len(x_k))\n",
    "\n",
    "                    p_k, FLAG = scaling_selection(g_k, H_k, sigma)\n",
    "\n",
    "                    if FLAG in [\"SPC\", \"LPC\"]:\n",
    "                        alpha_k = backtracking_LS(closure(), theta_bt, rho, x_k, g_k, p_k)\n",
    "                    else:\n",
    "                        alpha_k = forward_backward_LS(closure(), theta_fb, rho, x_k, g_k, p_k)\n",
    "            \n",
    "                    x_k = x_k + alpha_k * p_k\n",
    "                    p.data.copy_(x_k)\n",
    "\n",
    "\n",
    "        return loss\n"
   ]
  },
  {
   "cell_type": "code",
   "execution_count": 59,
   "id": "0ef9d2f5",
   "metadata": {},
   "outputs": [
    {
     "data": {
      "text/plain": [
       "'\\n        with torch.no_grad():\\n            for group in self.param_groups:\\n                sigma = group[\"sigma\"]\\n                rho = group[\"rho\"]\\n                theta_bt = group[\"theta_bt\"]\\n                theta_fb = group[\"theta_fb\"]\\n\\n                for p in group[\\'params\\']:\\n                    if p.grad is None:\\n                        continue\\n\\n                    x_k = p.data.clone()\\n                    g_k = p.grad.data.clone()\\n\\n                    H_k = None\\n\\n                    p_k, FLAG = scaling_selection(g_k, H_k, sigma)\\n\\n                    if FLAG in [\"SPC\", \"LPC\"]:\\n                        alpha_k = backtracking_LS(loss, theta_bt, rho, x_k, g_k, p_k)\\n                    else:\\n                        alpha_k = forward_backward_LS(loss, theta_fb, rho, x_k, g_k, p_k)\\n            \\n                    x_k = x_k + alpha_k * p_k\\n                    p.data.copy_(x_k)\\n'"
      ]
     },
     "execution_count": 59,
     "metadata": {},
     "output_type": "execute_result"
    }
   ],
   "source": [
    "\"\"\"\n",
    "        with torch.no_grad():\n",
    "            for group in self.param_groups:\n",
    "                sigma = group[\"sigma\"]\n",
    "                rho = group[\"rho\"]\n",
    "                theta_bt = group[\"theta_bt\"]\n",
    "                theta_fb = group[\"theta_fb\"]\n",
    "\n",
    "                for p in group['params']:\n",
    "                    if p.grad is None:\n",
    "                        continue\n",
    "\n",
    "                    x_k = p.data.clone()\n",
    "                    g_k = p.grad.data.clone()\n",
    "\n",
    "                    H_k = None\n",
    "\n",
    "                    p_k, FLAG = scaling_selection(g_k, H_k, sigma)\n",
    "\n",
    "                    if FLAG in [\"SPC\", \"LPC\"]:\n",
    "                        alpha_k = backtracking_LS(loss, theta_bt, rho, x_k, g_k, p_k)\n",
    "                    else:\n",
    "                        alpha_k = forward_backward_LS(loss, theta_fb, rho, x_k, g_k, p_k)\n",
    "            \n",
    "                    x_k = x_k + alpha_k * p_k\n",
    "                    p.data.copy_(x_k)\n",
    "\"\"\""
   ]
  },
  {
   "cell_type": "code",
   "execution_count": 60,
   "id": "aaec412d",
   "metadata": {},
   "outputs": [],
   "source": [
    "\n",
    "\n",
    "NUM_SAMPLES = 100\n",
    "\n",
    "blobs_train, blobs_test = generate_dataset(\"blobs\", NUM_SAMPLES)\n",
    "moons_train, moons_test = generate_dataset(\"moons\", NUM_SAMPLES)\n",
    "xor_train, xor_test = generate_dataset(\"xor\", NUM_SAMPLES)\n",
    "squares_train, squares_test = generate_dataset(\"bar\", NUM_SAMPLES)"
   ]
  },
  {
   "cell_type": "code",
   "execution_count": 61,
   "id": "335c01d3",
   "metadata": {},
   "outputs": [],
   "source": [
    "train_loader = data.DataLoader(blobs_train, batch_size=10, shuffle=True)\n",
    "test_loader = data.DataLoader(blobs_test, batch_size=NUM_SAMPLES)\n",
    "\n",
    "loss_fn = torch.nn.CrossEntropyLoss()\n",
    "model = SimpleMLP(hidden_dim=256)\n",
    "optimizer = Scaled_GD_Optimizer(model.parameters(), sigma, rho, theta_bt, theta_fb)\n",
    "\n",
    "\n",
    "sigma = 1e-2\n",
    "theta_bt = 0.5\n",
    "theta_fb = 0.5\n",
    "rho = 0.25\n",
    "N_EPOCH = 1000"
   ]
  },
  {
   "cell_type": "code",
   "execution_count": 62,
   "id": "8f2290b3",
   "metadata": {},
   "outputs": [
    {
     "ename": "RuntimeError",
     "evalue": "element 0 of tensors does not require grad and does not have a grad_fn",
     "output_type": "error",
     "traceback": [
      "\u001b[1;31m---------------------------------------------------------------------------\u001b[0m",
      "\u001b[1;31mRuntimeError\u001b[0m                              Traceback (most recent call last)",
      "Cell \u001b[1;32mIn[62], line 15\u001b[0m\n\u001b[0;32m     12\u001b[0m         loss\u001b[38;5;241m.\u001b[39mbackward()\n\u001b[0;32m     13\u001b[0m         \u001b[38;5;28;01mreturn\u001b[39;00m loss\n\u001b[1;32m---> 15\u001b[0m     loss \u001b[38;5;241m=\u001b[39m \u001b[43moptimizer\u001b[49m\u001b[38;5;241;43m.\u001b[39;49m\u001b[43mstep\u001b[49m\u001b[43m(\u001b[49m\u001b[43mclosure\u001b[49m\u001b[43m)\u001b[49m\n\u001b[0;32m     17\u001b[0m \u001b[38;5;66;03m# Compute the test loss\u001b[39;00m\n\u001b[0;32m     18\u001b[0m \u001b[38;5;28;01mfor\u001b[39;00m minibatch, label \u001b[38;5;129;01min\u001b[39;00m test_loader:\n",
      "File \u001b[1;32m~\\AppData\\Local\\Packages\\PythonSoftwareFoundation.Python.3.10_qbz5n2kfra8p0\\LocalCache\\local-packages\\Python310\\site-packages\\torch\\optim\\optimizer.py:485\u001b[0m, in \u001b[0;36mOptimizer.profile_hook_step.<locals>.wrapper\u001b[1;34m(*args, **kwargs)\u001b[0m\n\u001b[0;32m    480\u001b[0m         \u001b[38;5;28;01melse\u001b[39;00m:\n\u001b[0;32m    481\u001b[0m             \u001b[38;5;28;01mraise\u001b[39;00m \u001b[38;5;167;01mRuntimeError\u001b[39;00m(\n\u001b[0;32m    482\u001b[0m                 \u001b[38;5;124mf\u001b[39m\u001b[38;5;124m\"\u001b[39m\u001b[38;5;132;01m{\u001b[39;00mfunc\u001b[38;5;132;01m}\u001b[39;00m\u001b[38;5;124m must return None or a tuple of (new_args, new_kwargs), but got \u001b[39m\u001b[38;5;132;01m{\u001b[39;00mresult\u001b[38;5;132;01m}\u001b[39;00m\u001b[38;5;124m.\u001b[39m\u001b[38;5;124m\"\u001b[39m\n\u001b[0;32m    483\u001b[0m             )\n\u001b[1;32m--> 485\u001b[0m out \u001b[38;5;241m=\u001b[39m func(\u001b[38;5;241m*\u001b[39margs, \u001b[38;5;241m*\u001b[39m\u001b[38;5;241m*\u001b[39mkwargs)\n\u001b[0;32m    486\u001b[0m \u001b[38;5;28mself\u001b[39m\u001b[38;5;241m.\u001b[39m_optimizer_step_code()\n\u001b[0;32m    488\u001b[0m \u001b[38;5;66;03m# call optimizer step post hooks\u001b[39;00m\n",
      "Cell \u001b[1;32mIn[58], line 32\u001b[0m, in \u001b[0;36mScaled_GD_Optimizer.step\u001b[1;34m(self, closure)\u001b[0m\n\u001b[0;32m     29\u001b[0m p_k, FLAG \u001b[38;5;241m=\u001b[39m scaling_selection(g_k, H_k, sigma)\n\u001b[0;32m     31\u001b[0m \u001b[38;5;28;01mif\u001b[39;00m FLAG \u001b[38;5;129;01min\u001b[39;00m [\u001b[38;5;124m\"\u001b[39m\u001b[38;5;124mSPC\u001b[39m\u001b[38;5;124m\"\u001b[39m, \u001b[38;5;124m\"\u001b[39m\u001b[38;5;124mLPC\u001b[39m\u001b[38;5;124m\"\u001b[39m]:\n\u001b[1;32m---> 32\u001b[0m     alpha_k \u001b[38;5;241m=\u001b[39m backtracking_LS(\u001b[43mclosure\u001b[49m\u001b[43m(\u001b[49m\u001b[43m)\u001b[49m, theta_bt, rho, x_k, g_k, p_k)\n\u001b[0;32m     33\u001b[0m \u001b[38;5;28;01melse\u001b[39;00m:\n\u001b[0;32m     34\u001b[0m     alpha_k \u001b[38;5;241m=\u001b[39m forward_backward_LS(closure(), theta_fb, rho, x_k, g_k, p_k)\n",
      "Cell \u001b[1;32mIn[62], line 12\u001b[0m, in \u001b[0;36mclosure\u001b[1;34m()\u001b[0m\n\u001b[0;32m     10\u001b[0m prediction \u001b[38;5;241m=\u001b[39m model(minibatch)\n\u001b[0;32m     11\u001b[0m loss \u001b[38;5;241m=\u001b[39m loss_fn(prediction, label)\n\u001b[1;32m---> 12\u001b[0m \u001b[43mloss\u001b[49m\u001b[38;5;241;43m.\u001b[39;49m\u001b[43mbackward\u001b[49m\u001b[43m(\u001b[49m\u001b[43m)\u001b[49m\n\u001b[0;32m     13\u001b[0m \u001b[38;5;28;01mreturn\u001b[39;00m loss\n",
      "File \u001b[1;32m~\\AppData\\Local\\Packages\\PythonSoftwareFoundation.Python.3.10_qbz5n2kfra8p0\\LocalCache\\local-packages\\Python310\\site-packages\\torch\\_tensor.py:648\u001b[0m, in \u001b[0;36mTensor.backward\u001b[1;34m(self, gradient, retain_graph, create_graph, inputs)\u001b[0m\n\u001b[0;32m    638\u001b[0m \u001b[38;5;28;01mif\u001b[39;00m has_torch_function_unary(\u001b[38;5;28mself\u001b[39m):\n\u001b[0;32m    639\u001b[0m     \u001b[38;5;28;01mreturn\u001b[39;00m handle_torch_function(\n\u001b[0;32m    640\u001b[0m         Tensor\u001b[38;5;241m.\u001b[39mbackward,\n\u001b[0;32m    641\u001b[0m         (\u001b[38;5;28mself\u001b[39m,),\n\u001b[1;32m   (...)\u001b[0m\n\u001b[0;32m    646\u001b[0m         inputs\u001b[38;5;241m=\u001b[39minputs,\n\u001b[0;32m    647\u001b[0m     )\n\u001b[1;32m--> 648\u001b[0m \u001b[43mtorch\u001b[49m\u001b[38;5;241;43m.\u001b[39;49m\u001b[43mautograd\u001b[49m\u001b[38;5;241;43m.\u001b[39;49m\u001b[43mbackward\u001b[49m\u001b[43m(\u001b[49m\n\u001b[0;32m    649\u001b[0m \u001b[43m    \u001b[49m\u001b[38;5;28;43mself\u001b[39;49m\u001b[43m,\u001b[49m\u001b[43m \u001b[49m\u001b[43mgradient\u001b[49m\u001b[43m,\u001b[49m\u001b[43m \u001b[49m\u001b[43mretain_graph\u001b[49m\u001b[43m,\u001b[49m\u001b[43m \u001b[49m\u001b[43mcreate_graph\u001b[49m\u001b[43m,\u001b[49m\u001b[43m \u001b[49m\u001b[43minputs\u001b[49m\u001b[38;5;241;43m=\u001b[39;49m\u001b[43minputs\u001b[49m\n\u001b[0;32m    650\u001b[0m \u001b[43m\u001b[49m\u001b[43m)\u001b[49m\n",
      "File \u001b[1;32m~\\AppData\\Local\\Packages\\PythonSoftwareFoundation.Python.3.10_qbz5n2kfra8p0\\LocalCache\\local-packages\\Python310\\site-packages\\torch\\autograd\\__init__.py:353\u001b[0m, in \u001b[0;36mbackward\u001b[1;34m(tensors, grad_tensors, retain_graph, create_graph, grad_variables, inputs)\u001b[0m\n\u001b[0;32m    348\u001b[0m     retain_graph \u001b[38;5;241m=\u001b[39m create_graph\n\u001b[0;32m    350\u001b[0m \u001b[38;5;66;03m# The reason we repeat the same comment below is that\u001b[39;00m\n\u001b[0;32m    351\u001b[0m \u001b[38;5;66;03m# some Python versions print out the first line of a multi-line function\u001b[39;00m\n\u001b[0;32m    352\u001b[0m \u001b[38;5;66;03m# calls in the traceback and some print out the last line\u001b[39;00m\n\u001b[1;32m--> 353\u001b[0m \u001b[43m_engine_run_backward\u001b[49m\u001b[43m(\u001b[49m\n\u001b[0;32m    354\u001b[0m \u001b[43m    \u001b[49m\u001b[43mtensors\u001b[49m\u001b[43m,\u001b[49m\n\u001b[0;32m    355\u001b[0m \u001b[43m    \u001b[49m\u001b[43mgrad_tensors_\u001b[49m\u001b[43m,\u001b[49m\n\u001b[0;32m    356\u001b[0m \u001b[43m    \u001b[49m\u001b[43mretain_graph\u001b[49m\u001b[43m,\u001b[49m\n\u001b[0;32m    357\u001b[0m \u001b[43m    \u001b[49m\u001b[43mcreate_graph\u001b[49m\u001b[43m,\u001b[49m\n\u001b[0;32m    358\u001b[0m \u001b[43m    \u001b[49m\u001b[43minputs\u001b[49m\u001b[43m,\u001b[49m\n\u001b[0;32m    359\u001b[0m \u001b[43m    \u001b[49m\u001b[43mallow_unreachable\u001b[49m\u001b[38;5;241;43m=\u001b[39;49m\u001b[38;5;28;43;01mTrue\u001b[39;49;00m\u001b[43m,\u001b[49m\n\u001b[0;32m    360\u001b[0m \u001b[43m    \u001b[49m\u001b[43maccumulate_grad\u001b[49m\u001b[38;5;241;43m=\u001b[39;49m\u001b[38;5;28;43;01mTrue\u001b[39;49;00m\u001b[43m,\u001b[49m\n\u001b[0;32m    361\u001b[0m \u001b[43m\u001b[49m\u001b[43m)\u001b[49m\n",
      "File \u001b[1;32m~\\AppData\\Local\\Packages\\PythonSoftwareFoundation.Python.3.10_qbz5n2kfra8p0\\LocalCache\\local-packages\\Python310\\site-packages\\torch\\autograd\\graph.py:824\u001b[0m, in \u001b[0;36m_engine_run_backward\u001b[1;34m(t_outputs, *args, **kwargs)\u001b[0m\n\u001b[0;32m    822\u001b[0m     unregister_hooks \u001b[38;5;241m=\u001b[39m _register_logging_hooks_on_whole_graph(t_outputs)\n\u001b[0;32m    823\u001b[0m \u001b[38;5;28;01mtry\u001b[39;00m:\n\u001b[1;32m--> 824\u001b[0m     \u001b[38;5;28;01mreturn\u001b[39;00m Variable\u001b[38;5;241m.\u001b[39m_execution_engine\u001b[38;5;241m.\u001b[39mrun_backward(  \u001b[38;5;66;03m# Calls into the C++ engine to run the backward pass\u001b[39;00m\n\u001b[0;32m    825\u001b[0m         t_outputs, \u001b[38;5;241m*\u001b[39margs, \u001b[38;5;241m*\u001b[39m\u001b[38;5;241m*\u001b[39mkwargs\n\u001b[0;32m    826\u001b[0m     )  \u001b[38;5;66;03m# Calls into the C++ engine to run the backward pass\u001b[39;00m\n\u001b[0;32m    827\u001b[0m \u001b[38;5;28;01mfinally\u001b[39;00m:\n\u001b[0;32m    828\u001b[0m     \u001b[38;5;28;01mif\u001b[39;00m attach_logging_hooks:\n",
      "\u001b[1;31mRuntimeError\u001b[0m: element 0 of tensors does not require grad and does not have a grad_fn"
     ]
    }
   ],
   "source": [
    "losses = np.zeros(N_EPOCH)\n",
    "\n",
    "for epoch in range(N_EPOCH):\n",
    "    for minibatch, label in train_loader:\n",
    "\n",
    "        label = label.long()\n",
    "\n",
    "        def closure():\n",
    "            optimizer.zero_grad()\n",
    "            prediction = model(minibatch)\n",
    "            loss = loss_fn(prediction, label)\n",
    "            loss.backward()\n",
    "            return loss\n",
    "\n",
    "        loss = optimizer.step(closure)\n",
    "\n",
    "    # Compute the test loss\n",
    "    for minibatch, label in test_loader:\n",
    "        label = label.long()\n",
    "        with torch.no_grad():\n",
    "            loss = loss_fn(model(minibatch), label)\n",
    "            losses[epoch] = loss.item()\n",
    "\n",
    "            if epoch % 100 == 0:\n",
    "                print(epoch, loss.item())\n"
   ]
  },
  {
   "cell_type": "code",
   "execution_count": null,
   "id": "f6feaa6d",
   "metadata": {},
   "outputs": [
    {
     "data": {
      "text/plain": [
       "[<matplotlib.lines.Line2D at 0x1da2a34e500>]"
      ]
     },
     "execution_count": 14,
     "metadata": {},
     "output_type": "execute_result"
    },
    {
     "data": {
      "image/png": "[encoded data removed]",
      "text/plain": [
       "<Figure size 640x480 with 1 Axes>"
      ]
     },
     "metadata": {},
     "output_type": "display_data"
    }
   ],
   "source": [
    "plt.plot(range(N_EPOCH), losses)"
   ]
  }
 ],
 "metadata": {
  "kernelspec": {
   "display_name": "Python 3",
   "language": "python",
   "name": "python3"
  },
  "language_info": {
   "codemirror_mode": {
    "name": "ipython",
    "version": 3
   },
   "file_extension": ".py",
   "mimetype": "text/x-python",
   "name": "python",
   "nbconvert_exporter": "python",
   "pygments_lexer": "ipython3",
   "version": "3.10.11"
  }
 },
 "nbformat": 4,
 "nbformat_minor": 5
}
