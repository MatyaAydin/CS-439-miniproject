{
 "cells": [
  {
   "cell_type": "code",
   "execution_count": 38,
   "id": "2cdbcc7d",
   "metadata": {},
   "outputs": [],
   "source": [
    "import torch\n",
    "import torch.nn as nn\n",
    "import torch.nn.functional as F"
   ]
  },
  {
   "cell_type": "code",
   "execution_count": 23,
   "id": "9f81968f",
   "metadata": {},
   "outputs": [],
   "source": [
    "\n",
    "\n",
    "def scaling_selection(g, H, sigma, constant_learning_rate=True):\n",
    "    Hg = torch.matmul(H, g)\n",
    "    dot_product = torch.dot(g, Hg)\n",
    "    norm_g = torch.norm(g)\n",
    "\n",
    "    if constant_learning_rate:\n",
    "        s_lpc_min = 1 / sigma\n",
    "        s_lpc_max = 1 / sigma\n",
    "    else:\n",
    "        s_lpc_min = (1 / sigma) * torch.rand(1).item()\n",
    "        s_lpc_max = 1 / sigma\n",
    "\n",
    "    s_CG = norm_g**2 / dot_product\n",
    "    s_MR = dot_product / torch.norm(Hg)**2\n",
    "    s_GM = torch.sqrt(s_CG * s_MR)\n",
    "\n",
    "    if dot_product > sigma * norm_g**2:\n",
    "        spc = torch.tensor([s_CG, s_MR, s_GM])[torch.randint(0, 3, (1,)).item()]\n",
    "        return -spc * g, \"SPC\"\n",
    "    elif dot_product > 0 and dot_product < sigma * norm_g**2:\n",
    "        slpc = torch.empty(1).uniform_(s_lpc_min, 1 / sigma).item()\n",
    "        return -slpc * g, \"LPC\"\n",
    "    else:\n",
    "        snc = torch.empty(1).uniform_(s_lpc_min, s_lpc_max).item()\n",
    "        return -snc * g, \"NC\"\n"
   ]
  },
  {
   "cell_type": "code",
   "execution_count": 24,
   "id": "a274d6f5",
   "metadata": {},
   "outputs": [],
   "source": [
    "#algorithm 3 backward tracking line search\n",
    "\n",
    "def backtracking_LS(model, theta, rho, x, g, p):\n",
    "\n",
    "    alpha = 1.0\n",
    "    while model(x + alpha * p) > model(x) + alpha * rho * torch.dot(g, p):\n",
    "        alpha *= theta\n",
    "\n",
    "\n",
    "    return alpha\n"
   ]
  },
  {
   "cell_type": "code",
   "execution_count": 25,
   "id": "84e9c28b",
   "metadata": {},
   "outputs": [],
   "source": [
    "# algorithm 4 forward/backward tracking line search\n",
    "\n",
    "def forward_backward_LS(model, theta, rho, x, g, p):\n",
    "    alpha = 1.0\n",
    "    if model(x + alpha * p) > model(x) + alpha * rho * torch.dot(g, p):\n",
    "        backtracking_LS(model, theta, rho, x, g, p)\n",
    "    else:\n",
    "        while model(x + alpha * p) >= model(x) + alpha * rho * torch.dot(g, p):\n",
    "            alpha /= theta\n",
    "\n",
    "    return alpha * theta\n",
    "\n",
    "    "
   ]
  },
  {
   "cell_type": "code",
   "execution_count": null,
   "id": "2825e6d8",
   "metadata": {},
   "outputs": [],
   "source": [
    "# algorithm 2: scaled gradient descent with line search\n",
    "\n",
    "def scaled_GD_norm_squared(model, x0, sigma, rho, theta_bt, theta_fb, MAX_ITER, eps):\n",
    "    \"\"\"\n",
    "    sigma <<< 1\n",
    "    0 < theta < 1\n",
    "    0 < rho < 1/2\n",
    "    \"\"\"\n",
    "\n",
    "    x_k = x0.clone()\n",
    "    flag_distribution = {\"SPC\": 0, \"LPC\": 0, \"NC\": 0}\n",
    "\n",
    "    for _ in range(MAX_ITER):\n",
    "        g_k = 2 * x_k\n",
    "\n",
    "        if torch.norm(g_k) < eps:\n",
    "            break\n",
    "\n",
    "        # Use identity matrix as Hessian approximation\n",
    "        H_k = torch.eye(len(x_k), dtype=x_k.dtype, device=x_k.device)\n",
    "        p_k, FLAG = scaling_selection(g_k, H_k, sigma)\n",
    "        flag_distribution[FLAG] += 1\n",
    "\n",
    "        if FLAG in [\"SPC\", \"LPC\"]:\n",
    "            alpha_k = backtracking_LS(model, theta_bt, rho, x_k, g_k, p_k)\n",
    "        else:\n",
    "            alpha_k = forward_backward_LS(model, theta_fb, rho, x_k, g_k, p_k)\n",
    "\n",
    "        x_k = x_k + alpha_k * p_k\n",
    "\n",
    "    return x_k, flag_distribution\n"
   ]
  },
  {
   "cell_type": "code",
   "execution_count": 27,
   "id": "b18f29ef",
   "metadata": {},
   "outputs": [],
   "source": [
    "class NormSquaredModel(nn.Module):\n",
    "    def __init__(self):\n",
    "        super().__init__()\n",
    "\n",
    "    def forward(self, x):\n",
    "        return torch.norm(x)**2"
   ]
  },
  {
   "cell_type": "code",
   "execution_count": 37,
   "id": "00c13676",
   "metadata": {},
   "outputs": [
    {
     "data": {
      "text/plain": [
       "(tensor([-5.4210e-20,  5.4210e-20, -1.3553e-20,  5.4210e-20,  2.7105e-20,\n",
       "          2.7105e-20,  3.3881e-21, -2.7105e-20,  6.7763e-21, -5.4210e-20]),\n",
       " {'SPC': 3, 'LPC': 0, 'NC': 0})"
      ]
     },
     "execution_count": 37,
     "metadata": {},
     "output_type": "execute_result"
    }
   ],
   "source": [
    "#try with ||x||² for now\n",
    "model = NormSquaredModel()\n",
    "\n",
    "sigma = 0.1\n",
    "theta_bt = 0.5\n",
    "theta_fb = 0.5\n",
    "rho = 0.25\n",
    "\n",
    "MAX_ITER = 1000\n",
    "eps = 1e-12\n",
    "\n",
    "x_0 = 10 * torch.randn(10)\n",
    "\n",
    "\n",
    "\n",
    "x_star, flag_distribution = scaled_GD_norm_squared(model, x_0, sigma, rho, theta_bt, theta_fb, MAX_ITER, eps)\n",
    "\n",
    "x_star, flag_distribution"
   ]
  },
  {
   "cell_type": "code",
   "execution_count": null,
   "id": "21b42767",
   "metadata": {},
   "outputs": [],
   "source": [
    "# must define a classification/regression task and make scaled_gd overwrite torch.optim.Optimiser\n",
    "# https://www.geeksforgeeks.org/custom-optimizers-in-pytorch/\n",
    "\n",
    "class SimpleMLP(nn.Module):\n",
    "    def __init__(self, input_dim=1, hidden_dim=64, output_dim=1):\n",
    "        super().__init__()\n",
    "        self.fc1 = nn.Linear(input_dim, hidden_dim)\n",
    "        self.fc2 = nn.Linear(hidden_dim, output_dim)\n",
    "\n",
    "    def forward(self, x):\n",
    "        x = F.relu(self.fc1(x))\n",
    "        x = self.fc2(x)\n",
    "        return x"
   ]
  },
  {
   "cell_type": "code",
   "execution_count": null,
   "id": "4cbe169f",
   "metadata": {},
   "outputs": [],
   "source": [
    "class Scaled_GD_Optimizer(torch.optim.Optimizer):\n",
    "\n",
    "    def __init__(self):\n",
    "        raise NotImplementedError()\n",
    "    \n",
    "\n",
    "    def step(self):\n",
    "        raise NotImplementedError()"
   ]
  }
 ],
 "metadata": {
  "kernelspec": {
   "display_name": "Python 3",
   "language": "python",
   "name": "python3"
  },
  "language_info": {
   "codemirror_mode": {
    "name": "ipython",
    "version": 3
   },
   "file_extension": ".py",
   "mimetype": "text/x-python",
   "name": "python",
   "nbconvert_exporter": "python",
   "pygments_lexer": "ipython3",
   "version": "3.10.11"
  }
 },
 "nbformat": 4,
 "nbformat_minor": 5
}
