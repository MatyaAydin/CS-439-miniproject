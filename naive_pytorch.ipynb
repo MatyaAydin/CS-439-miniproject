{
 "cells": [
  {
   "cell_type": "code",
   "execution_count": 45,
   "id": "2cdbcc7d",
   "metadata": {},
   "outputs": [],
   "source": [
    "import torch\n",
    "import torch.nn as nn\n",
    "import torch.nn.functional as F\n",
    "import numpy as np\n",
    "import matplotlib.pyplot as plt"
   ]
  },
  {
   "cell_type": "code",
   "execution_count": 23,
   "id": "9f81968f",
   "metadata": {},
   "outputs": [],
   "source": [
    "\n",
    "\n",
    "def scaling_selection(g, H, sigma, constant_learning_rate=True):\n",
    "    Hg = torch.matmul(H, g)\n",
    "    dot_product = torch.dot(g, Hg)\n",
    "    norm_g = torch.norm(g)\n",
    "\n",
    "    if constant_learning_rate:\n",
    "        s_lpc_min = 1 / sigma\n",
    "        s_lpc_max = 1 / sigma\n",
    "    else:\n",
    "        s_lpc_min = (1 / sigma) * torch.rand(1).item()\n",
    "        s_lpc_max = 1 / sigma\n",
    "\n",
    "    s_CG = norm_g**2 / dot_product\n",
    "    s_MR = dot_product / torch.norm(Hg)**2\n",
    "    s_GM = torch.sqrt(s_CG * s_MR)\n",
    "\n",
    "    if dot_product > sigma * norm_g**2:\n",
    "        spc = torch.tensor([s_CG, s_MR, s_GM])[torch.randint(0, 3, (1,)).item()]\n",
    "        return -spc * g, \"SPC\"\n",
    "    elif dot_product > 0 and dot_product < sigma * norm_g**2:\n",
    "        slpc = torch.empty(1).uniform_(s_lpc_min, 1 / sigma).item()\n",
    "        return -slpc * g, \"LPC\"\n",
    "    else:\n",
    "        snc = torch.empty(1).uniform_(s_lpc_min, s_lpc_max).item()\n",
    "        return -snc * g, \"NC\"\n"
   ]
  },
  {
   "cell_type": "code",
   "execution_count": 24,
   "id": "a274d6f5",
   "metadata": {},
   "outputs": [],
   "source": [
    "#algorithm 3 backward tracking line search\n",
    "\n",
    "def backtracking_LS(model, theta, rho, x, g, p):\n",
    "\n",
    "    alpha = 1.0\n",
    "    while model(x + alpha * p) > model(x) + alpha * rho * torch.dot(g, p):\n",
    "        alpha *= theta\n",
    "\n",
    "\n",
    "    return alpha\n"
   ]
  },
  {
   "cell_type": "code",
   "execution_count": 25,
   "id": "84e9c28b",
   "metadata": {},
   "outputs": [],
   "source": [
    "# algorithm 4 forward/backward tracking line search\n",
    "\n",
    "def forward_backward_LS(model, theta, rho, x, g, p):\n",
    "    alpha = 1.0\n",
    "    if model(x + alpha * p) > model(x) + alpha * rho * torch.dot(g, p):\n",
    "        backtracking_LS(model, theta, rho, x, g, p)\n",
    "    else:\n",
    "        while model(x + alpha * p) >= model(x) + alpha * rho * torch.dot(g, p):\n",
    "            alpha /= theta\n",
    "\n",
    "    return alpha * theta\n",
    "\n",
    "    "
   ]
  },
  {
   "cell_type": "code",
   "execution_count": null,
   "id": "2825e6d8",
   "metadata": {},
   "outputs": [],
   "source": [
    "# algorithm 2: scaled gradient descent with line search\n",
    "\n",
    "def scaled_GD_norm_squared(model, x0, sigma, rho, theta_bt, theta_fb, MAX_ITER, eps):\n",
    "    \"\"\"\n",
    "    sigma <<< 1\n",
    "    0 < theta < 1\n",
    "    0 < rho < 1/2\n",
    "    \"\"\"\n",
    "\n",
    "    x_k = x0.clone()\n",
    "    flag_distribution = {\"SPC\": 0, \"LPC\": 0, \"NC\": 0}\n",
    "\n",
    "    for _ in range(MAX_ITER):\n",
    "        g_k = 2 * x_k\n",
    "\n",
    "        if torch.norm(g_k) < eps:\n",
    "            break\n",
    "\n",
    "        # Use identity matrix as Hessian approximation\n",
    "        H_k = torch.eye(len(x_k), dtype=x_k.dtype, device=x_k.device)\n",
    "        p_k, FLAG = scaling_selection(g_k, H_k, sigma)\n",
    "        flag_distribution[FLAG] += 1\n",
    "\n",
    "        if FLAG in [\"SPC\", \"LPC\"]:\n",
    "            alpha_k = backtracking_LS(model, theta_bt, rho, x_k, g_k, p_k)\n",
    "        else:\n",
    "            alpha_k = forward_backward_LS(model, theta_fb, rho, x_k, g_k, p_k)\n",
    "\n",
    "        x_k = x_k + alpha_k * p_k\n",
    "\n",
    "    return x_k, flag_distribution\n"
   ]
  },
  {
   "cell_type": "code",
   "execution_count": 27,
   "id": "b18f29ef",
   "metadata": {},
   "outputs": [],
   "source": [
    "class NormSquaredModel(nn.Module):\n",
    "    def __init__(self):\n",
    "        super().__init__()\n",
    "\n",
    "    def forward(self, x):\n",
    "        return torch.norm(x)**2"
   ]
  },
  {
   "cell_type": "code",
   "execution_count": 37,
   "id": "00c13676",
   "metadata": {},
   "outputs": [
    {
     "data": {
      "text/plain": [
       "(tensor([-5.4210e-20,  5.4210e-20, -1.3553e-20,  5.4210e-20,  2.7105e-20,\n",
       "          2.7105e-20,  3.3881e-21, -2.7105e-20,  6.7763e-21, -5.4210e-20]),\n",
       " {'SPC': 3, 'LPC': 0, 'NC': 0})"
      ]
     },
     "execution_count": 37,
     "metadata": {},
     "output_type": "execute_result"
    }
   ],
   "source": [
    "#try with ||x||² for now\n",
    "model = NormSquaredModel()\n",
    "\n",
    "sigma = 0.1\n",
    "theta_bt = 0.5\n",
    "theta_fb = 0.5\n",
    "rho = 0.25\n",
    "\n",
    "MAX_ITER = 1000\n",
    "eps = 1e-12\n",
    "\n",
    "x_0 = 10 * torch.randn(10)\n",
    "\n",
    "\n",
    "\n",
    "x_star, flag_distribution = scaled_GD_norm_squared(model, x_0, sigma, rho, theta_bt, theta_fb, MAX_ITER, eps)\n",
    "\n",
    "x_star, flag_distribution"
   ]
  },
  {
   "cell_type": "code",
   "execution_count": null,
   "id": "21b42767",
   "metadata": {},
   "outputs": [],
   "source": [
    "# must define a classification/regression task and make scaled_gd overwrite torch.optim.Optimizer\n",
    "# https://www.geeksforgeeks.org/custom-optimizers-in-pytorch/\n",
    "\n",
    "class SimpleMLP(nn.Module):\n",
    "    def __init__(self, input_dim=1, hidden_dim=64, output_dim=1):\n",
    "        super().__init__()\n",
    "        self.fc1 = nn.Linear(input_dim, hidden_dim)\n",
    "        self.fc2 = nn.Linear(hidden_dim, output_dim)\n",
    "\n",
    "    def forward(self, x):\n",
    "        x = F.relu(self.fc1(x))\n",
    "        x = self.fc2(x)\n",
    "        return x"
   ]
  },
  {
   "cell_type": "code",
   "execution_count": null,
   "id": "4cbe169f",
   "metadata": {},
   "outputs": [],
   "source": [
    "class Scaled_GD_Optimizer(torch.optim.Optimizer):\n",
    "\n",
    "    def __init__(self, params, sigma, rho, theta_bt, theta_fb):\n",
    "        super().__init__(params)\n",
    "        self.sigma = sigma\n",
    "        self.rho = rho\n",
    "        self.theta_bt = theta_bt\n",
    "        self.theta_fb = theta_fb\n",
    "    \n",
    "\n",
    "    def step(self):\n",
    "        raise NotImplementedError()"
   ]
  },
  {
   "cell_type": "code",
   "execution_count": null,
   "id": "aaec412d",
   "metadata": {},
   "outputs": [],
   "source": [
    "#from lab 6 :\n",
    "from helper import generate_dataset, visualize_one_dataset, visualize_datasets, predict_grid, visualize_predictions\n",
    "from torch.utils import data\n",
    "\n",
    "NUM_SAMPLES = 1000\n",
    "\n",
    "blobs_train, blobs_test = generate_dataset(\"blobs\", NUM_SAMPLES)\n",
    "moons_train, moons_test = generate_dataset(\"moons\", NUM_SAMPLES)\n",
    "xor_train, xor_test = generate_dataset(\"xor\", NUM_SAMPLES)\n",
    "squares_train, squares_test = generate_dataset(\"bar\", NUM_SAMPLES)"
   ]
  },
  {
   "cell_type": "code",
   "execution_count": null,
   "id": "335c01d3",
   "metadata": {},
   "outputs": [],
   "source": [
    "train_loader = data.DataLoader(blobs_train, batch_size=10, shuffle=True)\n",
    "test_loader = data.DataLoader(blobs_test, batch_size=NUM_SAMPLES)\n",
    "\n",
    "loss_fn = torch.nn.CrossEntropyLoss()\n",
    "model = SimpleMLP(input_dim=2, hidden_dim=64, output_dim=2)\n",
    "optimizer = Scaled_GD_Optimizer(model.parameters(), sigma, rho, theta_bt, theta_fb)\n",
    "\n",
    "\n",
    "sigma = 0.1\n",
    "theta_bt = 0.5\n",
    "theta_fb = 0.5\n",
    "rho = 0.25\n",
    "N_EPOCH = 1000"
   ]
  },
  {
   "cell_type": "code",
   "execution_count": null,
   "id": "8f2290b3",
   "metadata": {},
   "outputs": [],
   "source": [
    "losses = np.zeros(N_EPOCH)\n",
    "\n",
    "for epoch in range(N_EPOCH):\n",
    "    for minibatch, label in train_loader:\n",
    "        \n",
    "        optimizer.zero_grad() # Sets the previously computed gradients to zero to prevent accumulation\n",
    "        \n",
    "        prediction = model.forward(minibatch)\n",
    "        loss = loss_fn(prediction, label)\n",
    "        \n",
    "        loss.backward()\n",
    "        \n",
    "        optimizer.step()\n",
    "        \n",
    "    # Compute the test loss\n",
    "    # we let torch know that we dont intend to call .backward\n",
    "    with torch.no_grad():\n",
    "        test_data, test_labels = next(iter(test_loader))  # load the one and only test batch\n",
    "        \n",
    "        prediction = model.forward(test_data)\n",
    "        loss = loss_fn(prediction, test_labels)\n",
    "\n",
    "        losses[epoch] = loss.item()\n",
    "\n",
    "        # Print the test loss to monitor progress\n",
    "        if epoch % 100 == 0:\n",
    "            print(epoch, loss.item())\n",
    "\n",
    "\n"
   ]
  },
  {
   "cell_type": "code",
   "execution_count": null,
   "id": "f6feaa6d",
   "metadata": {},
   "outputs": [],
   "source": [
    "plt.plot(range(N_EPOCH), losses)"
   ]
  }
 ],
 "metadata": {
  "kernelspec": {
   "display_name": "Python 3",
   "language": "python",
   "name": "python3"
  },
  "language_info": {
   "codemirror_mode": {
    "name": "ipython",
    "version": 3
   },
   "file_extension": ".py",
   "mimetype": "text/x-python",
   "name": "python",
   "nbconvert_exporter": "python",
   "pygments_lexer": "ipython3",
   "version": "3.10.11"
  }
 },
 "nbformat": 4,
 "nbformat_minor": 5
}
