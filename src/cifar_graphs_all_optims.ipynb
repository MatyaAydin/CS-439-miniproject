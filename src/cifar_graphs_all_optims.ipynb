{
  "cells": [
    {
      "cell_type": "markdown",
      "id": "25d585b6",
      "metadata": {
        "id": "25d585b6"
      },
      "source": [
        "This notebook was used to reproduce figure 1 of report. Due to size of CIFAR dataset, this takes hours to run on a local machine. "
      ]
    },
    {
      "cell_type": "markdown",
      "id": "a739b86e",
      "metadata": {},
      "source": [
        "### Get plots on multiclass logistic regression on CIFAR-10."
      ]
    },
    {
      "cell_type": "code",
      "execution_count": 2,
      "id": "d4693f69",
      "metadata": {
        "id": "d4693f69"
      },
      "outputs": [],
      "source": [
        "import jax\n",
        "import jax.numpy as jnp\n",
        "import jax.random as jr\n",
        "from jax import grad\n",
        "import matplotlib.pyplot as plt\n",
        "import torch, torchvision\n",
        "import torchvision.transforms as T\n",
        "import numpy as np\n",
        "from tqdm.auto import tqdm\n",
        "\n",
        "from optimizers.mrcg import (\n",
        "    scaling_selection as mrcg_scaling_selection,\n",
        "    backtracking_LS   as mrcg_backtracking,\n",
        "    forward_backward_LS as mrcg_forwardback,\n",
        ")"
      ]
    },
    {
      "cell_type": "markdown",
      "id": "36e9c4a4",
      "metadata": {
        "id": "36e9c4a4"
      },
      "source": [
        "### 1. Data and Hyperparameters"
      ]
    },
    {
      "cell_type": "code",
      "execution_count": 3,
      "id": "ae974b51",
      "metadata": {
        "colab": {
          "base_uri": "https://localhost:8080/"
        },
        "id": "ae974b51",
        "outputId": "3c655890-57ea-421c-ef02-fec585b18371"
      },
      "outputs": [
        {
          "name": "stdout",
          "output_type": "stream",
          "text": [
            "Loaded CIFAR-10: X (50000, 3073), y (50000,)\n"
          ]
        }
      ],
      "source": [
        "def load_cifar10_flatten():\n",
        "    tfm = T.Compose([T.ToTensor()])\n",
        "    ds  = torchvision.datasets.CIFAR10(root=\"~/.torch/datasets\",\n",
        "                                       train=True, download=True, transform=tfm)\n",
        "    X = torch.stack([x.view(-1) for x, _ in ds]).numpy()          # (50k,3072)\n",
        "    y = torch.tensor([lbl for _, lbl in ds]).numpy()              # (50k,)\n",
        "    X = (X - X.mean(0, keepdims=True)) / (X.std(0, keepdims=True) + 1e-6)\n",
        "    X = np.concatenate([X, np.ones((X.shape[0],1))], axis=1)      # +bias feat\n",
        "    return X.astype(np.float32), y.astype(np.int32)\n",
        "\n",
        "X_np, y_np = load_cifar10_flatten()\n",
        "N, d = X_np.shape\n",
        "C     = 10\n",
        "print(f\"Loaded CIFAR-10: X {X_np.shape}, y {y_np.shape}\")\n",
        "\n",
        "# one-hot for *all* 10 classes  (→ first loss = ln 10)\n",
        "Y_onehot = (y_np[:,None] == np.arange(C)[None,:]).astype(np.float32)\n",
        "\n",
        "# JAX arrays\n",
        "X, Y = jnp.asarray(X_np), jnp.asarray(Y_onehot)\n",
        "\n",
        "lambda_ = 1e-3\n",
        "sigma, theta, rho = 0.0, 0.5, 1e-4\n",
        "key = jr.PRNGKey(42)"
      ]
    },
    {
      "cell_type": "markdown",
      "id": "2a694be5",
      "metadata": {
        "id": "2a694be5"
      },
      "source": [
        "### 2. Define oracle counting identical to report"
      ]
    },
    {
      "cell_type": "code",
      "execution_count": 4,
      "id": "ba6c2783",
      "metadata": {
        "id": "ba6c2783"
      },
      "outputs": [],
      "source": [
        "def f_raw(params):\n",
        "    \"\"\"params shape (d*(C-1),) for classes 0…8; class-9 weights are zero.\"\"\"\n",
        "    W = params.reshape(d, C-1)                 # (d,9)\n",
        "    logits  = X @ W                            # (N,9)\n",
        "    ref_col = jnp.zeros((N,1))                 # class-9 logits = 0\n",
        "    full_logits = jnp.concatenate([logits, ref_col], axis=1)  # (N,10)\n",
        "\n",
        "    log_probs = full_logits - jax.scipy.special.logsumexp(\n",
        "                                full_logits, axis=1, keepdims=True)\n",
        "    ce  = -jnp.mean(jnp.sum(Y * log_probs, axis=1))            # NOTE: no slice\n",
        "    reg = 0.5 * lambda_ * jnp.sum(params**2)\n",
        "    return ce + reg\n",
        "\n",
        "oracle_calls = 0\n",
        "def f_counted(p):   # +1\n",
        "    global oracle_calls\n",
        "    oracle_calls += 1\n",
        "    return f_raw(p)\n",
        "\n",
        "def grad_count(p):  # f +1 already, add +1 here  ⇒ 2 total\n",
        "    global oracle_calls\n",
        "    oracle_calls += 1\n",
        "    return grad(f_counted)(p)\n",
        "\n",
        "def hvp_count(p,v): # f+g already, add +2 here  ⇒ 4 total\n",
        "    global oracle_calls\n",
        "    oracle_calls += 2\n",
        "    return jax.jvp(grad(f_counted), (p,), (v,))[1]\n"
      ]
    },
    {
      "cell_type": "markdown",
      "id": "536dd3d5",
      "metadata": {
        "id": "536dd3d5"
      },
      "source": [
        "### 3. Optimizer steps"
      ]
    },
    {
      "cell_type": "code",
      "execution_count": 11,
      "id": "ec5600a1",
      "metadata": {
        "id": "ec5600a1"
      },
      "outputs": [],
      "source": [
        "def mrcg_step(state):\n",
        "    params, key = state\n",
        "    key, sk = jr.split(key)\n",
        "\n",
        "    g = grad_count(params)\n",
        "    p, flag = mrcg_scaling_selection(\n",
        "        g, lambda p,_: f_counted(p), params, sigma, sk,\n",
        "        hv_fun=lambda p,v: hvp_count(p,v)\n",
        "    )\n",
        "\n",
        "    if flag in (\"SPC\",\"LPC\"):\n",
        "        alpha = mrcg_backtracking(lambda p,_: f_counted(p), sk, theta, rho,\n",
        "                              params, g, p)\n",
        "    else:\n",
        "        alpha = mrcg_forwardback(lambda p,_: f_counted(p), sk, theta, rho,\n",
        "                             params, g, p)\n",
        "    return (params + alpha*p, key)"
      ]
    },
    {
      "cell_type": "markdown",
      "id": "0a92df2f",
      "metadata": {
        "id": "0a92df2f"
      },
      "source": [
        "### 4. Run it"
      ]
    },
    {
      "cell_type": "code",
      "execution_count": 12,
      "id": "cbd70014",
      "metadata": {
        "colab": {
          "base_uri": "https://localhost:8080/",
          "height": 67,
          "referenced_widgets": [
            "4365e772041342ee92e7649a7062751c",
            "1c1d942b1f16424cbafee8fc37c7db6d",
            "e622992db90f4d47a46f73fdc6a41f74",
            "a5fc144460a34870a2b88d2e61709fb0",
            "ad24c5e4afe84283be5d78b48b1cfa71",
            "be94a09cba7d4a52a381c76a590475f4",
            "25ceae5c5cc4411a8ac3a701ee4db46d",
            "4009f7959b414c7784d96f8268a12420",
            "925f5e7f56c54d9caff2692111ca5ff3",
            "b3d513795b0542408f4ce8f1676592b6",
            "ee75d5c42e704b59b30a19a4182e32df"
          ]
        },
        "id": "cbd70014",
        "outputId": "b9a9544c-23c4-448b-9c26-2762d53d5c5b"
      },
      "outputs": [
        {
          "data": {
            "application/vnd.jupyter.widget-view+json": {
              "model_id": "4365e772041342ee92e7649a7062751c",
              "version_major": 2,
              "version_minor": 0
            },
            "text/plain": [
              "Oracle calls:   0%|          | 0/100000 [00:00<?, ?call/s]"
            ]
          },
          "metadata": {},
          "output_type": "display_data"
        },
        {
          "name": "stdout",
          "output_type": "stream",
          "text": [
            "Stopped after 100003 calls; final ‖g‖=2.36e-03\n"
          ]
        }
      ],
      "source": [
        "state = (jnp.zeros(d*(C-1), jnp.float32), key)\n",
        "MAX_CALLS, GRAD_TOL = 100_000, 1e-4\n",
        "obj, orc = [], []\n",
        "\n",
        "oracle_calls = 0\n",
        "obj = [f_counted(state[0])]   # <-- NEW  log f(θ₀)       (+1 oracle call)\n",
        "orc = [oracle_calls]\n",
        "\n",
        "bar = tqdm(total=MAX_CALLS, desc=\"Oracle calls\", unit=\"call\", dynamic_ncols=True)\n",
        "while oracle_calls < MAX_CALLS:\n",
        "    oc_prev = oracle_calls\n",
        "    state   = mrcg_step(state)\n",
        "    f_val   = f_counted(state[0])               # +1\n",
        "    g_norm  = jnp.linalg.norm(grad_count(state[0]))  # +1\n",
        "    obj.append(f_val); orc.append(oracle_calls)\n",
        "    bar.update(oracle_calls - oc_prev)\n",
        "    if g_norm <= GRAD_TOL: break\n",
        "bar.close()\n",
        "\n",
        "print(f\"Stopped after {oracle_calls} calls; final ‖g‖={float(g_norm):.2e}\")"
      ]
    },
    {
      "cell_type": "markdown",
      "id": "99f16627",
      "metadata": {
        "id": "99f16627"
      },
      "source": [
        "### 5. Plot"
      ]
    },
    {
      "cell_type": "code",
      "execution_count": 43,
      "id": "bf421d25",
      "metadata": {
        "colab": {
          "base_uri": "https://localhost:8080/",
          "height": 387
        },
        "id": "bf421d25",
        "outputId": "b51bf94f-d1ec-4151-d33a-bf7434949d3c"
      },
      "outputs": [
        {
          "data": {
            "image/png": "[encoded data removed]",
            "text/plain": [
              "<Figure size 450x380 with 1 Axes>"
            ]
          },
          "metadata": {},
          "output_type": "display_data"
        }
      ],
      "source": [
        "import matplotlib.ticker as mtick\n",
        "fig, ax = plt.subplots(figsize=(4.5,3.8))\n",
        "ax.set_xscale(\"log\")\n",
        "ax.plot(orc, obj, label=\"MRCG\")\n",
        "ax.yaxis.set_major_formatter(mtick.ScalarFormatter(useMathText=True))\n",
        "ax.ticklabel_format(axis='y', style='sci', scilimits=(0,0))\n",
        "ax.set_xlabel(\"Oracle Calls\"); ax.set_ylabel(\"Objective Value\")\n",
        "ax.grid(True, which=\"both\", lw=0.3); ax.legend()\n",
        "fig.tight_layout()\n",
        "fig.savefig(\"mrcg_cifar10_curve.png\", dpi=150)\n",
        "plt.show()\n"
      ]
    },
    {
      "cell_type": "markdown",
      "id": "30f01b99",
      "metadata": {},
      "source": [
        "### Comparison to other optimizers"
      ]
    },
    {
      "cell_type": "markdown",
      "id": "WjYXdteX00tO",
      "metadata": {
        "id": "WjYXdteX00tO"
      },
      "source": [
        "#### HB Method"
      ]
    },
    {
      "cell_type": "code",
      "execution_count": null,
      "id": "UiyKkBm700QV",
      "metadata": {
        "colab": {
          "base_uri": "https://localhost:8080/",
          "height": 85,
          "referenced_widgets": [
            "422ed5d11d344142bed19d6e82e88a0c",
            "221ad9583a564008990e43281adc379e",
            "7ff79b1c128e4a3daa73199a9b36087a",
            "8cda52c069114ffaa3fcebde5decc2df",
            "03bba9185f5149b392c9dee3b17d9c8d",
            "7847af26f8ee4d77b726dce92eea7ff8",
            "edaa716e78424b8ea4882c6e2b60ed54",
            "16156affa6814aa39261e342542ce0be",
            "3e224d0efe65476e8e530bbe305eb1e0",
            "e6571e67a0474ec29504c97c1797c2e4",
            "b1535d5203b7403fa0e16bede132f422"
          ]
        },
        "id": "UiyKkBm700QV",
        "outputId": "f12454fe-ed9a-4144-bcde-edb1450bc6c4"
      },
      "outputs": [
        {
          "name": "stdout",
          "output_type": "stream",
          "text": [
            "HB settings: α = 5.781e-04, β = 0.998\n"
          ]
        },
        {
          "data": {
            "application/vnd.jupyter.widget-view+json": {
              "model_id": "422ed5d11d344142bed19d6e82e88a0c",
              "version_major": 2,
              "version_minor": 0
            },
            "text/plain": [
              "HB Oracle calls:   0%|          | 0/100000 [00:00<?, ?call/s]"
            ]
          },
          "metadata": {},
          "output_type": "display_data"
        },
        {
          "name": "stdout",
          "output_type": "stream",
          "text": [
            "HB stopped after 100001 calls; final ‖g‖ = 2.89e-03\n"
          ]
        }
      ],
      "source": [
        "oracle_calls = 0\n",
        "mu_approx = lambda_\n",
        "fro2      = jnp.sum(X**2)\n",
        "L_approx  = (C-1) / (4*N) * fro2 + lambda_\n",
        "\n",
        "alpha_hb = 4.0 / ( (jnp.sqrt(L_approx) + jnp.sqrt(mu_approx))**2 )\n",
        "beta_hb  = ((jnp.sqrt(L_approx) - jnp.sqrt(mu_approx)) /\n",
        "            (jnp.sqrt(L_approx) + jnp.sqrt(mu_approx)))**2\n",
        "print(f\"HB settings: α = {float(alpha_hb):.3e}, β = {float(beta_hb):.3f}\")\n",
        "\n",
        "params_hb = jnp.zeros(d*(C-1), jnp.float32)\n",
        "v_hb      = jnp.zeros_like(params_hb)\n",
        "\n",
        "MAX_CALLS, GRAD_TOL = 100_000, 1e-4\n",
        "\n",
        "# ---- log initial point (1 oracle call) ---------------------------------\n",
        "f0_hb  = f_counted(params_hb)    \n",
        "orc_hb = [oracle_calls]         \n",
        "obj_hb = [f0_hb]\n",
        "\n",
        "bar = tqdm(total=MAX_CALLS, desc=\"HB Oracle calls\", unit=\"call\", dynamic_ncols=True)\n",
        "while oracle_calls < MAX_CALLS:\n",
        "    oc_prev = oracle_calls\n",
        "\n",
        "    g = grad_count(params_hb)                       # +2 calls\n",
        "    v_hb = beta_hb * v_hb + g\n",
        "    params_hb = params_hb - alpha_hb * v_hb\n",
        "\n",
        "    f_val  = f_counted(params_hb)                   # +1 call\n",
        "    g_norm = jnp.linalg.norm(grad_count(params_hb)) # +2 calls\n",
        "    obj_hb.append(f_val);  orc_hb.append(oracle_calls)\n",
        "\n",
        "    bar.update(oracle_calls - oc_prev)\n",
        "    if g_norm <= GRAD_TOL: break\n",
        "bar.close()\n",
        "print(f\"HB stopped after {oracle_calls} calls; final ‖g‖ = {float(g_norm):.2e}\")\n"
      ]
    },
    {
      "cell_type": "code",
      "execution_count": 9,
      "id": "vdhS07LS2uCl",
      "metadata": {
        "id": "vdhS07LS2uCl"
      },
      "outputs": [],
      "source": [
        "# Save results\n",
        "np.savetxt(\"hb_cifar10_obj.txt\", np.array(obj_hb))\n",
        "np.savetxt(\"hb_cifar10_orc.txt\", np.array(orc_hb))"
      ]
    },
    {
      "cell_type": "code",
      "execution_count": null,
      "id": "MrYNtMWo1UjJ",
      "metadata": {
        "colab": {
          "base_uri": "https://localhost:8080/",
          "height": 386
        },
        "id": "MrYNtMWo1UjJ",
        "outputId": "655f7aa8-6af4-4597-d122-893fe5a6879d"
      },
      "outputs": [
        {
          "data": {
            "image/png": "[encoded data removed]",
            "text/plain": [
              "<Figure size 450x380 with 1 Axes>"
            ]
          },
          "metadata": {},
          "output_type": "display_data"
        }
      ],
      "source": [
        "import matplotlib.ticker as mtick\n",
        "fig, ax = plt.subplots(figsize=(4.5,3.8))\n",
        "ax.set_xscale(\"log\")\n",
        "ax.plot(orc, obj, label=\"MRCG\")\n",
        "ax.plot(orc_hb, obj_hb, label=\"Heavy‑Ball\")\n",
        "ax.yaxis.set_major_formatter(mtick.ScalarFormatter(useMathText=True))\n",
        "ax.ticklabel_format(axis='y', style='sci', scilimits=(0,0))\n",
        "ax.set_xlabel(\"Oracle Calls\"); ax.set_ylabel(\"Objective Value\")\n",
        "ax.grid(True, which=\"both\", lw=0.3); ax.legend()\n",
        "fig.tight_layout()\n",
        "fig.savefig(\"mrcg_hb_cifar10_curve.png\", dpi=150)\n",
        "plt.show()"
      ]
    },
    {
      "cell_type": "markdown",
      "id": "cnjyS-Ka8Gdm",
      "metadata": {
        "id": "cnjyS-Ka8Gdm"
      },
      "source": [
        "#### Fixed Method"
      ]
    },
    {
      "cell_type": "code",
      "execution_count": null,
      "id": "P1cq9ZevLvLK",
      "metadata": {
        "colab": {
          "base_uri": "https://localhost:8080/",
          "height": 85,
          "referenced_widgets": [
            "bd2b25baf4624b299a99ecef5bf0941b",
            "fb7d9f9770c84e449c14219eb564b565",
            "283b012b2b0e46fcaaa3e6a5f2db7e85",
            "07eb539d51f84d6eb0fe5f4453a23bc7",
            "cfeec9e4df8e48cd914fadb016ec56cf",
            "0c38cdda53d843ef992797ae715c68a9",
            "a42ec914541941e6869d6d84b167b85f",
            "d5e685f3ab3f46c586b4e47110d4759a",
            "80cd56c030894cb8bc3c306b035196f8",
            "b7e5ebde311c4453a709fbad71b3f5fa",
            "c8a40b53b6b448fc89735e270529be56"
          ]
        },
        "id": "P1cq9ZevLvLK",
        "outputId": "40574927-32da-4451-b2a8-8f02ed6482af"
      },
      "outputs": [
        {
          "name": "stdout",
          "output_type": "stream",
          "text": [
            "GD step size α = 1.446e-04\n"
          ]
        },
        {
          "data": {
            "application/vnd.jupyter.widget-view+json": {
              "model_id": "bd2b25baf4624b299a99ecef5bf0941b",
              "version_major": 2,
              "version_minor": 0
            },
            "text/plain": [
              "GD oracle calls:   0%|          | 0/100000 [00:00<?, ?call/s]"
            ]
          },
          "metadata": {},
          "output_type": "display_data"
        },
        {
          "name": "stdout",
          "output_type": "stream",
          "text": [
            "GD stopped after 100000 total oracle calls; final loss = 1.7108\n"
          ]
        }
      ],
      "source": [
        "oracle_calls = 0\n",
        "params0 = jnp.zeros(d * (C - 1), jnp.float32)\n",
        "mu_approx = lambda_\n",
        "fro2      = jnp.sum(X**2)\n",
        "L_approx  = (C-1) / (4*N) * fro2 + lambda_\n",
        "alpha_gd = 1.0 / L_approx\n",
        "print(f\"GD step size α = {float(alpha_gd):.3e}\")\n",
        "\n",
        "# 2. log initial point (one counted forward pass) ------------------------\n",
        "f0_gd = f_counted(params0)          \n",
        "orc_gd = [oracle_calls]             \n",
        "obj_gd = [f0_gd]\n",
        "\n",
        "key_gd = jr.PRNGKey(7)\n",
        "MAX_CALLS = 100_000\n",
        "\n",
        "bar = tqdm(total=MAX_CALLS, desc=\"GD oracle calls\", unit=\"call\",\n",
        "           dynamic_ncols=True, leave=False)\n",
        "\n",
        "while oracle_calls < MAX_CALLS:\n",
        "    oc_prev = oracle_calls\n",
        "\n",
        "    g = grad_count(params0)          # g  ← gradient vector\n",
        "    params0 = params0 - alpha_gd * g\n",
        "\n",
        "    f_val = f_counted(params0)       # +1 call\n",
        "    obj_gd.append(f_val); orc_gd.append(oracle_calls)\n",
        "\n",
        "    if jnp.linalg.norm(g) <= 1e-4:   # reuse g, no extra calls\n",
        "        break\n",
        "\n",
        "    bar.update(oracle_calls - oc_prev)\n",
        "\n",
        "print(f\"GD stopped after {oracle_calls} total oracle calls; \"\n",
        "      f\"final loss = {float(obj_gd[-1]):.4f}\")\n"
      ]
    },
    {
      "cell_type": "code",
      "execution_count": null,
      "id": "3R_xYjRS3ztr",
      "metadata": {
        "colab": {
          "base_uri": "https://localhost:8080/",
          "height": 425
        },
        "id": "3R_xYjRS3ztr",
        "outputId": "a954e6aa-c385-4286-81cf-cafe5d3f62bf"
      },
      "outputs": [
        {
          "name": "stdout",
          "output_type": "stream",
          "text": [
            "Saved ➜ mrcg_hb_nes_gd_cifar10_curve.png\n"
          ]
        },
        {
          "data": {
            "image/png": "[encoded data removed]",
            "text/plain": [
              "<Figure size 600x400 with 1 Axes>"
            ]
          },
          "metadata": {},
          "output_type": "display_data"
        }
      ],
      "source": [
        "plt.figure(figsize=(6, 4))\n",
        "plt.plot(orc,     obj,     label='MRCG')\n",
        "plt.plot(orc_hb,  obj_hb,  label='Heavy-Ball')\n",
        "plt.plot(orc_gd,  obj_gd,  label='GD (fixed α)')\n",
        "plt.xlim(left=1)          # optional – never plot x<1 on a log axis\n",
        "\n",
        "plt.xscale('log'); plt.yscale('log')\n",
        "plt.xlabel('Oracle calls'); plt.ylabel('Objective value')\n",
        "plt.title('CIFAR-10 logistic regression')\n",
        "plt.legend(); plt.tight_layout()\n",
        "\n",
        "plt.savefig('mrcg_hb_nes_gd_cifar10_curve.png', dpi=300)\n",
        "print('Saved ➜ mrcg_hb_nes_gd_cifar10_curve.png')\n"
      ]
    },
    {
      "cell_type": "markdown",
      "id": "RGSZs9dPD39W",
      "metadata": {
        "id": "RGSZs9dPD39W"
      },
      "source": [
        "#### Line Search Method"
      ]
    },
    {
      "cell_type": "code",
      "execution_count": null,
      "id": "OqndrGvO3zvs",
      "metadata": {
        "colab": {
          "base_uri": "https://localhost:8080/",
          "height": 35,
          "referenced_widgets": [
            "d9cd8383dd154fddbc29265a9e1e9790",
            "79ee99666e1f4d98bfe89c70b32f04d1",
            "f2474ca66a994980aec34c487e1a06de",
            "5d3868ed00f7475aa31fd1e16bdd8c72",
            "e3f364c4c0304612878eda046125daa4",
            "85b8665474444a2b8003415133d789a5",
            "428732dce75c4e49be9132203762359b",
            "4814678276a44d208788e00972abc5a5",
            "5089a3dfae824659a1657548deafe562",
            "c263caafdf864b52868e96be555e3e23",
            "26b0416c6ae947718d225bf61ee3b5c9"
          ]
        },
        "id": "OqndrGvO3zvs",
        "outputId": "2015b1f0-2045-440b-95dd-f48573145700"
      },
      "outputs": [
        {
          "data": {
            "application/vnd.jupyter.widget-view+json": {
              "model_id": "d9cd8383dd154fddbc29265a9e1e9790",
              "version_major": 2,
              "version_minor": 0
            },
            "text/plain": [
              "LS-GD oracle calls:   0%|          | 0/100000 [00:00<?, ?call/s]"
            ]
          },
          "metadata": {},
          "output_type": "display_data"
        },
        {
          "name": "stdout",
          "output_type": "stream",
          "text": [
            "Line-search GD stopped at 100010 oracle calls; final loss = 1.5838\n"
          ]
        }
      ],
      "source": [
        "from optimizers.LS_GD import ls_init, ls_step\n",
        "import jax.random as jr\n",
        "oracle_calls = 0\n",
        "rho_ls   = 1e-4        \n",
        "theta_ls = 0.5       \n",
        "MAX_CALLS = 100_000\n",
        "GRAD_TOL  = 1e-4\n",
        "\n",
        "# ---------- counted loss wrapper -----------------------------\n",
        "loss_counted = lambda p, k: f_counted(p)   # +1 forward pass\n",
        "\n",
        "# ---------- initial state & first log ------------------------\n",
        "params_ls = jnp.zeros(d * (C - 1), jnp.float32)\n",
        "key_ls    = jr.PRNGKey(2024)\n",
        "\n",
        "state_ls = ls_init(params_ls, loss_counted, key_ls,\n",
        "                   rho=rho_ls, theta=theta_ls)\n",
        "\n",
        "f0_ls  = loss_counted(state_ls.params, state_ls.key)   \n",
        "orc_ls = [oracle_calls]                                \n",
        "obj_ls = [f0_ls]\n",
        "\n",
        "bar = tqdm(total=MAX_CALLS, desc=\"LS-GD oracle calls\", unit=\"call\",\n",
        "           dynamic_ncols=True, leave=False)\n",
        "\n",
        "while oracle_calls < MAX_CALLS:\n",
        "    oc_prev = oracle_calls\n",
        "\n",
        "    state_ls = ls_step(state_ls)\n",
        "    oracle_calls += 1          \n",
        "\n",
        "    loss_val = loss_counted(state_ls.params, state_ls.key)\n",
        "    obj_ls.append(loss_val);  orc_ls.append(oracle_calls)\n",
        "\n",
        "    g = grad_count(state_ls.params)     \n",
        "    if jnp.linalg.norm(g) <= GRAD_TOL:\n",
        "        break\n",
        "\n",
        "    bar.update(oracle_calls - oc_prev)\n",
        "bar.close()\n",
        "\n",
        "print(f\"Line-search GD stopped at {oracle_calls} oracle calls; \"\n",
        "      f\"final loss = {float(obj_ls[-1]):.4f}\")\n"
      ]
    },
    {
      "cell_type": "code",
      "execution_count": 11,
      "id": "-h0Nrlev3zxo",
      "metadata": {
        "colab": {
          "base_uri": "https://localhost:8080/",
          "height": 407
        },
        "id": "-h0Nrlev3zxo",
        "outputId": "e7ef219e-85a6-4347-b329-1dd0f31f5c78"
      },
      "outputs": [
        {
          "data": {
            "image/png": "[encoded data removed]",
            "text/plain": [
              "<Figure size 600x400 with 1 Axes>"
            ]
          },
          "metadata": {},
          "output_type": "display_data"
        }
      ],
      "source": [
        "plt.figure(figsize=(6, 4))\n",
        "plt.plot(orc,     obj,     label='MRCG')\n",
        "plt.plot(orc_hb,  obj_hb,  label='Heavy-Ball')\n",
        "plt.plot(orc_gd,  obj_gd,  label='GD (fixed α)')\n",
        "plt.plot(orc_ls,  obj_ls,  label='LS-GD')\n",
        "plt.xlim(left=1)          # optional – never plot x<1 on a log axis\n",
        "\n",
        "plt.xscale('log'); plt.yscale('log')\n",
        "plt.xlabel('Oracle calls'); plt.ylabel('Objective value')\n",
        "plt.title('CIFAR-10 logistic regression')\n",
        "plt.legend(); plt.tight_layout()"
      ]
    },
    {
      "cell_type": "markdown",
      "id": "ec8-QUyR3Iah",
      "metadata": {
        "id": "ec8-QUyR3Iah"
      },
      "source": [
        "#### Adam Method"
      ]
    },
    {
      "cell_type": "code",
      "execution_count": null,
      "id": "f7NoH2OV3J_Q",
      "metadata": {
        "colab": {
          "base_uri": "https://localhost:8080/",
          "height": 67,
          "referenced_widgets": [
            "fc8c08d5ac9e47f98501193e33a14088",
            "bf54672dd423445b9321da34229f6136",
            "9100e33cb3764196a47b264dae719d8b",
            "cedcd7e0ab5d49de9c883518512efd01",
            "4795c05af8604a76975b2d22d6938fa0",
            "2f0c0337c09048328744598a3232874d",
            "cda9c8a65fa04df882b92def3d11415e",
            "bc46e49ca97e4185948c9c4963f1f015",
            "ea4bb08604a64dc48c17cba45cd1943e",
            "3cb7bdcacf5a4ff6a2a16bdbac7a4b97",
            "89a1dfa78c0c4313980d802472fd613b"
          ]
        },
        "id": "f7NoH2OV3J_Q",
        "outputId": "cdf305ac-4691-4342-c04d-52a13bbf6691"
      },
      "outputs": [
        {
          "data": {
            "application/vnd.jupyter.widget-view+json": {
              "model_id": "fc8c08d5ac9e47f98501193e33a14088",
              "version_major": 2,
              "version_minor": 0
            },
            "text/plain": [
              "Adam oracle calls:   0%|          | 0/100000 [00:00<?, ?call/s]"
            ]
          },
          "metadata": {},
          "output_type": "display_data"
        },
        {
          "name": "stdout",
          "output_type": "stream",
          "text": [
            "Adam stopped at 100000 oracle calls; final loss = 1.5635\n"
          ]
        }
      ],
      "source": [
        "from optimizers.adam import adam_init, adam_step\n",
        "import jax, jax.numpy as jnp, jax.random as jr\n",
        "\n",
        "oracle_calls = 0\n",
        "\n",
        "adam_lr = 1e-3\n",
        "beta1, beta2, eps = 0.9, 0.999, 1e-8\n",
        "MAX_CALLS = 100_000\n",
        "GRAD_TOL  = 1e-4\n",
        "\n",
        "# ---------- counted loss wrapper ------------------------------\n",
        "loss_at_params = lambda p, k: f_counted(p)   # adds +1 forward call\n",
        "\n",
        "# ---------- initial state & first log -------------------------\n",
        "params0 = jnp.zeros(d * (C - 1), jnp.float32)\n",
        "key_adam = jr.PRNGKey(0)\n",
        "\n",
        "state_adam = adam_init(params0, loss_at_params,\n",
        "                       lr=adam_lr, key=key_adam,\n",
        "                       beta1=beta1, beta2=beta2, eps=eps)\n",
        "\n",
        "f0_adam = loss_at_params(state_adam.params, state_adam.key) \n",
        "orc_adam = [oracle_calls]   \n",
        "obj_adam = [f0_adam]\n",
        "\n",
        "# ---------- optimisation loop ---------------------------------\n",
        "bar = tqdm(total=MAX_CALLS, desc=\"Adam oracle calls\", unit=\"call\",\n",
        "           dynamic_ncols=True, leave=False)\n",
        "\n",
        "while oracle_calls < MAX_CALLS:\n",
        "    oc_prev = oracle_calls\n",
        "\n",
        "    state_adam = adam_step(state_adam)    \n",
        "    oracle_calls += 1                     \n",
        "\n",
        "    if state_adam.iteration % 10 == 0:\n",
        "        loss_val = loss_at_params(state_adam.params, state_adam.key)\n",
        "        obj_adam.append(loss_val)\n",
        "        orc_adam.append(oracle_calls)\n",
        "\n",
        "    if state_adam.iteration % 10 == 0:    \n",
        "        g = jax.grad(loss_at_params)(state_adam.params, state_adam.key) \n",
        "        oracle_calls += 1                 \n",
        "        if jnp.linalg.norm(g) <= GRAD_TOL:\n",
        "            break\n",
        "\n",
        "    bar.update(oracle_calls - oc_prev)\n",
        "bar.close()\n",
        "\n",
        "print(f\"Adam stopped at {oracle_calls} oracle calls; \"\n",
        "      f\"final loss = {float(obj_adam[-1]):.4f}\")\n"
      ]
    },
    {
      "cell_type": "code",
      "execution_count": null,
      "id": "3dcb4abc",
      "metadata": {},
      "outputs": [],
      "source": [
        "np.savetxt(\"mrcg_cifar10_obj.txt\", np.array(obj))\n",
        "np.savetxt(\"mrcg_cifar10_orc.txt\", np.array(orc))\n",
        "\n",
        "np.savetxt(\"adam_cifar10_obj.txt\", np.array(obj_adam))\n",
        "np.savetxt(\"adam_cifar10_orc.txt\", np.array(orc_adam))\n",
        "\n",
        "np.savetxt(\"ls_cifar10_obj.txt\", np.array(obj_ls))\n",
        "np.savetxt(\"ls_cifar10_orc.txt\", np.array(orc_ls))\n",
        "\n",
        "np.savetxt(\"hb_cifar10_obj.txt\", np.array(obj_hb))\n",
        "np.savetxt(\"hb_cifar10_orc.txt\", np.array(orc_hb))\n",
        "\n",
        "np.savetxt(\"gd_cifar10_obj.txt\", np.array(obj_gd))\n",
        "np.savetxt(\"gd_cifar10_orc.txt\", np.array(orc_gd))"
      ]
    },
    {
      "cell_type": "code",
      "execution_count": null,
      "id": "6vHnDAhZjE7x",
      "metadata": {
        "id": "6vHnDAhZjE7x"
      },
      "outputs": [],
      "source": [
        "import numpy as np\n",
        "import jax, jax.numpy as jnp, jax.random as jr\n",
        "\n",
        "orc = np.loadtxt(\"mrcg_cifar10_orc.txt\")   \n",
        "obj = np.loadtxt(\"mrcg_cifar10_obj.txt\")   \n",
        "\n",
        "orc = jnp.asarray(orc)\n",
        "obj = jnp.asarray(obj)\n",
        "\n",
        "orc_hb = np.loadtxt(\"hb_cifar10_orc.txt\")   \n",
        "obj_hb = np.loadtxt(\"hb_cifar10_obj.txt\")   \n",
        "\n",
        "orc_hb = jnp.asarray(orc_hb)\n",
        "obj_hb = jnp.asarray(obj_hb)\n",
        "\n",
        "orc_gd = np.loadtxt(\"gd_cifar10_orc.txt\")   \n",
        "obj_gd = np.loadtxt(\"gd_cifar10_obj.txt\")   \n",
        "\n",
        "orc_gd = jnp.asarray(orc_gd)\n",
        "obj_gd = jnp.asarray(obj_gd)\n",
        "\n",
        "orc_ls = np.loadtxt(\"ls_cifar10_orc.txt\")   \n",
        "obj_ls = np.loadtxt(\"ls_cifar10_obj.txt\")   \n",
        "\n",
        "orc_ls = jnp.asarray(orc_ls)\n",
        "obj_ls = jnp.asarray(obj_ls)\n",
        "\n",
        "orc_adam = np.loadtxt(\"adam_cifar10_orc.txt\")   \n",
        "obj_adam = np.loadtxt(\"adam_cifar10_obj.txt\")   \n",
        "\n",
        "orc_adam = jnp.asarray(orc_adam)\n",
        "obj_adam = jnp.asarray(obj_adam)"
      ]
    },
    {
      "cell_type": "code",
      "execution_count": null,
      "id": "nVjB_QIe3Ln2",
      "metadata": {
        "colab": {
          "base_uri": "https://localhost:8080/",
          "height": 425
        },
        "id": "nVjB_QIe3Ln2",
        "outputId": "4ada53b4-f293-4e9e-fc4f-d9262af1d6b5"
      },
      "outputs": [
        {
          "name": "stdout",
          "output_type": "stream",
          "text": [
            "Saved ➜ cifar10_curve.png\n"
          ]
        },
        {
          "data": {
            "image/png": "[encoded data removed]",
            "text/plain": [
              "<Figure size 600x400 with 1 Axes>"
            ]
          },
          "metadata": {},
          "output_type": "display_data"
        }
      ],
      "source": [
        "plt.figure(figsize=(6, 4))\n",
        "plt.plot(orc,     obj,     label='MRCG')\n",
        "plt.plot(orc_hb,  obj_hb,  label='Heavy-Ball')\n",
        "plt.plot(orc_gd,  obj_gd,  label='GD')\n",
        "plt.plot(orc_ls,  obj_ls,  label='Line-search GD')\n",
        "plt.plot(orc_adam, obj_adam, label='Adam')\n",
        "\n",
        "plt.xlim(left=1)           \n",
        "plt.xscale('log'); plt.yscale('log')\n",
        "plt.xlabel('Oracle calls'); plt.ylabel('Objective value')\n",
        "plt.title('CIFAR-10 logistic regression')\n",
        "plt.legend()\n",
        "\n",
        "ax = plt.gca()                  \n",
        "ax.grid(True, which=\"both\",\n",
        "        color=\"black\", linewidth=0.8, alpha=0.3)\n",
        "\n",
        "plt.tight_layout()\n",
        "plt.savefig(\"cifar10_curve.png\", dpi=300)\n",
        "print(\"Saved ➜ cifar10_curve.png\")"
      ]
    },
    {
      "cell_type": "code",
      "execution_count": null,
      "id": "nYtBj9XknkP4",
      "metadata": {
        "id": "nYtBj9XknkP4"
      },
      "outputs": [],
      "source": []
    }
  ],
  "metadata": {
    "accelerator": "GPU",
    "colab": {
      "gpuType": "L4",
      "machine_shape": "hm",
      "provenance": []
    },
    "kernelspec": {
      "display_name": "jax",
      "language": "python",
      "name": "python3"
    },
    "language_info": {
      "codemirror_mode": {
        "name": "ipython",
        "version": 3
      },
      "file_extension": ".py",
      "mimetype": "text/x-python",
      "name": "python",
      "nbconvert_exporter": "python",
      "pygments_lexer": "ipython3",
      "version": "3.13.2"
    },
    "widgets": {
      "application/vnd.jupyter.widget-state+json": {
        "03bba9185f5149b392c9dee3b17d9c8d": {
          "model_module": "@jupyter-widgets/base",
          "model_module_version": "1.2.0",
          "model_name": "LayoutModel",
          "state": {
            "_model_module": "@jupyter-widgets/base",
            "_model_module_version": "1.2.0",
            "_model_name": "LayoutModel",
            "_view_count": null,
            "_view_module": "@jupyter-widgets/base",
            "_view_module_version": "1.2.0",
            "_view_name": "LayoutView",
            "align_content": null,
            "align_items": null,
            "align_self": null,
            "border": null,
            "bottom": null,
            "display": "inline-flex",
            "flex": null,
            "flex_flow": "row wrap",
            "grid_area": null,
            "grid_auto_columns": null,
            "grid_auto_flow": null,
            "grid_auto_rows": null,
            "grid_column": null,
            "grid_gap": null,
            "grid_row": null,
            "grid_template_areas": null,
            "grid_template_columns": null,
            "grid_template_rows": null,
            "height": null,
            "justify_content": null,
            "justify_items": null,
            "left": null,
            "margin": null,
            "max_height": null,
            "max_width": null,
            "min_height": null,
            "min_width": null,
            "object_fit": null,
            "object_position": null,
            "order": null,
            "overflow": null,
            "overflow_x": null,
            "overflow_y": null,
            "padding": null,
            "right": null,
            "top": null,
            "visibility": null,
            "width": "100%"
          }
        },
        "07eb539d51f84d6eb0fe5f4453a23bc7": {
          "model_module": "@jupyter-widgets/controls",
          "model_module_version": "1.5.0",
          "model_name": "HTMLModel",
          "state": {
            "_dom_classes": [],
            "_model_module": "@jupyter-widgets/controls",
            "_model_module_version": "1.5.0",
            "_model_name": "HTMLModel",
            "_view_count": null,
            "_view_module": "@jupyter-widgets/controls",
            "_view_module_version": "1.5.0",
            "_view_name": "HTMLView",
            "description": "",
            "description_tooltip": null,
            "layout": "IPY_MODEL_b7e5ebde311c4453a709fbad71b3f5fa",
            "placeholder": "​",
            "style": "IPY_MODEL_c8a40b53b6b448fc89735e270529be56",
            "value": " 99999/100000 [21:12&lt;00:00, 129.32call/s]"
          }
        },
        "0c38cdda53d843ef992797ae715c68a9": {
          "model_module": "@jupyter-widgets/base",
          "model_module_version": "1.2.0",
          "model_name": "LayoutModel",
          "state": {
            "_model_module": "@jupyter-widgets/base",
            "_model_module_version": "1.2.0",
            "_model_name": "LayoutModel",
            "_view_count": null,
            "_view_module": "@jupyter-widgets/base",
            "_view_module_version": "1.2.0",
            "_view_name": "LayoutView",
            "align_content": null,
            "align_items": null,
            "align_self": null,
            "border": null,
            "bottom": null,
            "display": null,
            "flex": null,
            "flex_flow": null,
            "grid_area": null,
            "grid_auto_columns": null,
            "grid_auto_flow": null,
            "grid_auto_rows": null,
            "grid_column": null,
            "grid_gap": null,
            "grid_row": null,
            "grid_template_areas": null,
            "grid_template_columns": null,
            "grid_template_rows": null,
            "height": null,
            "justify_content": null,
            "justify_items": null,
            "left": null,
            "margin": null,
            "max_height": null,
            "max_width": null,
            "min_height": null,
            "min_width": null,
            "object_fit": null,
            "object_position": null,
            "order": null,
            "overflow": null,
            "overflow_x": null,
            "overflow_y": null,
            "padding": null,
            "right": null,
            "top": null,
            "visibility": null,
            "width": null
          }
        },
        "16156affa6814aa39261e342542ce0be": {
          "model_module": "@jupyter-widgets/base",
          "model_module_version": "1.2.0",
          "model_name": "LayoutModel",
          "state": {
            "_model_module": "@jupyter-widgets/base",
            "_model_module_version": "1.2.0",
            "_model_name": "LayoutModel",
            "_view_count": null,
            "_view_module": "@jupyter-widgets/base",
            "_view_module_version": "1.2.0",
            "_view_name": "LayoutView",
            "align_content": null,
            "align_items": null,
            "align_self": null,
            "border": null,
            "bottom": null,
            "display": null,
            "flex": "2",
            "flex_flow": null,
            "grid_area": null,
            "grid_auto_columns": null,
            "grid_auto_flow": null,
            "grid_auto_rows": null,
            "grid_column": null,
            "grid_gap": null,
            "grid_row": null,
            "grid_template_areas": null,
            "grid_template_columns": null,
            "grid_template_rows": null,
            "height": null,
            "justify_content": null,
            "justify_items": null,
            "left": null,
            "margin": null,
            "max_height": null,
            "max_width": null,
            "min_height": null,
            "min_width": null,
            "object_fit": null,
            "object_position": null,
            "order": null,
            "overflow": null,
            "overflow_x": null,
            "overflow_y": null,
            "padding": null,
            "right": null,
            "top": null,
            "visibility": null,
            "width": null
          }
        },
        "1c1d942b1f16424cbafee8fc37c7db6d": {
          "model_module": "@jupyter-widgets/controls",
          "model_module_version": "1.5.0",
          "model_name": "HTMLModel",
          "state": {
            "_dom_classes": [],
            "_model_module": "@jupyter-widgets/controls",
            "_model_module_version": "1.5.0",
            "_model_name": "HTMLModel",
            "_view_count": null,
            "_view_module": "@jupyter-widgets/controls",
            "_view_module_version": "1.5.0",
            "_view_name": "HTMLView",
            "description": "",
            "description_tooltip": null,
            "layout": "IPY_MODEL_be94a09cba7d4a52a381c76a590475f4",
            "placeholder": "​",
            "style": "IPY_MODEL_25ceae5c5cc4411a8ac3a701ee4db46d",
            "value": "Oracle calls: "
          }
        },
        "221ad9583a564008990e43281adc379e": {
          "model_module": "@jupyter-widgets/controls",
          "model_module_version": "1.5.0",
          "model_name": "HTMLModel",
          "state": {
            "_dom_classes": [],
            "_model_module": "@jupyter-widgets/controls",
            "_model_module_version": "1.5.0",
            "_model_name": "HTMLModel",
            "_view_count": null,
            "_view_module": "@jupyter-widgets/controls",
            "_view_module_version": "1.5.0",
            "_view_name": "HTMLView",
            "description": "",
            "description_tooltip": null,
            "layout": "IPY_MODEL_7847af26f8ee4d77b726dce92eea7ff8",
            "placeholder": "​",
            "style": "IPY_MODEL_edaa716e78424b8ea4882c6e2b60ed54",
            "value": "HB Oracle calls: 100%"
          }
        },
        "25ceae5c5cc4411a8ac3a701ee4db46d": {
          "model_module": "@jupyter-widgets/controls",
          "model_module_version": "1.5.0",
          "model_name": "DescriptionStyleModel",
          "state": {
            "_model_module": "@jupyter-widgets/controls",
            "_model_module_version": "1.5.0",
            "_model_name": "DescriptionStyleModel",
            "_view_count": null,
            "_view_module": "@jupyter-widgets/base",
            "_view_module_version": "1.2.0",
            "_view_name": "StyleView",
            "description_width": ""
          }
        },
        "26b0416c6ae947718d225bf61ee3b5c9": {
          "model_module": "@jupyter-widgets/controls",
          "model_module_version": "1.5.0",
          "model_name": "DescriptionStyleModel",
          "state": {
            "_model_module": "@jupyter-widgets/controls",
            "_model_module_version": "1.5.0",
            "_model_name": "DescriptionStyleModel",
            "_view_count": null,
            "_view_module": "@jupyter-widgets/base",
            "_view_module_version": "1.2.0",
            "_view_name": "StyleView",
            "description_width": ""
          }
        },
        "283b012b2b0e46fcaaa3e6a5f2db7e85": {
          "model_module": "@jupyter-widgets/controls",
          "model_module_version": "1.5.0",
          "model_name": "FloatProgressModel",
          "state": {
            "_dom_classes": [],
            "_model_module": "@jupyter-widgets/controls",
            "_model_module_version": "1.5.0",
            "_model_name": "FloatProgressModel",
            "_view_count": null,
            "_view_module": "@jupyter-widgets/controls",
            "_view_module_version": "1.5.0",
            "_view_name": "ProgressView",
            "bar_style": "danger",
            "description": "",
            "description_tooltip": null,
            "layout": "IPY_MODEL_d5e685f3ab3f46c586b4e47110d4759a",
            "max": 100000,
            "min": 0,
            "orientation": "horizontal",
            "style": "IPY_MODEL_80cd56c030894cb8bc3c306b035196f8",
            "value": 99999
          }
        },
        "2f0c0337c09048328744598a3232874d": {
          "model_module": "@jupyter-widgets/base",
          "model_module_version": "1.2.0",
          "model_name": "LayoutModel",
          "state": {
            "_model_module": "@jupyter-widgets/base",
            "_model_module_version": "1.2.0",
            "_model_name": "LayoutModel",
            "_view_count": null,
            "_view_module": "@jupyter-widgets/base",
            "_view_module_version": "1.2.0",
            "_view_name": "LayoutView",
            "align_content": null,
            "align_items": null,
            "align_self": null,
            "border": null,
            "bottom": null,
            "display": null,
            "flex": null,
            "flex_flow": null,
            "grid_area": null,
            "grid_auto_columns": null,
            "grid_auto_flow": null,
            "grid_auto_rows": null,
            "grid_column": null,
            "grid_gap": null,
            "grid_row": null,
            "grid_template_areas": null,
            "grid_template_columns": null,
            "grid_template_rows": null,
            "height": null,
            "justify_content": null,
            "justify_items": null,
            "left": null,
            "margin": null,
            "max_height": null,
            "max_width": null,
            "min_height": null,
            "min_width": null,
            "object_fit": null,
            "object_position": null,
            "order": null,
            "overflow": null,
            "overflow_x": null,
            "overflow_y": null,
            "padding": null,
            "right": null,
            "top": null,
            "visibility": null,
            "width": null
          }
        },
        "3cb7bdcacf5a4ff6a2a16bdbac7a4b97": {
          "model_module": "@jupyter-widgets/base",
          "model_module_version": "1.2.0",
          "model_name": "LayoutModel",
          "state": {
            "_model_module": "@jupyter-widgets/base",
            "_model_module_version": "1.2.0",
            "_model_name": "LayoutModel",
            "_view_count": null,
            "_view_module": "@jupyter-widgets/base",
            "_view_module_version": "1.2.0",
            "_view_name": "LayoutView",
            "align_content": null,
            "align_items": null,
            "align_self": null,
            "border": null,
            "bottom": null,
            "display": null,
            "flex": null,
            "flex_flow": null,
            "grid_area": null,
            "grid_auto_columns": null,
            "grid_auto_flow": null,
            "grid_auto_rows": null,
            "grid_column": null,
            "grid_gap": null,
            "grid_row": null,
            "grid_template_areas": null,
            "grid_template_columns": null,
            "grid_template_rows": null,
            "height": null,
            "justify_content": null,
            "justify_items": null,
            "left": null,
            "margin": null,
            "max_height": null,
            "max_width": null,
            "min_height": null,
            "min_width": null,
            "object_fit": null,
            "object_position": null,
            "order": null,
            "overflow": null,
            "overflow_x": null,
            "overflow_y": null,
            "padding": null,
            "right": null,
            "top": null,
            "visibility": null,
            "width": null
          }
        },
        "3e224d0efe65476e8e530bbe305eb1e0": {
          "model_module": "@jupyter-widgets/controls",
          "model_module_version": "1.5.0",
          "model_name": "ProgressStyleModel",
          "state": {
            "_model_module": "@jupyter-widgets/controls",
            "_model_module_version": "1.5.0",
            "_model_name": "ProgressStyleModel",
            "_view_count": null,
            "_view_module": "@jupyter-widgets/base",
            "_view_module_version": "1.2.0",
            "_view_name": "StyleView",
            "bar_color": null,
            "description_width": ""
          }
        },
        "4009f7959b414c7784d96f8268a12420": {
          "model_module": "@jupyter-widgets/base",
          "model_module_version": "1.2.0",
          "model_name": "LayoutModel",
          "state": {
            "_model_module": "@jupyter-widgets/base",
            "_model_module_version": "1.2.0",
            "_model_name": "LayoutModel",
            "_view_count": null,
            "_view_module": "@jupyter-widgets/base",
            "_view_module_version": "1.2.0",
            "_view_name": "LayoutView",
            "align_content": null,
            "align_items": null,
            "align_self": null,
            "border": null,
            "bottom": null,
            "display": null,
            "flex": "2",
            "flex_flow": null,
            "grid_area": null,
            "grid_auto_columns": null,
            "grid_auto_flow": null,
            "grid_auto_rows": null,
            "grid_column": null,
            "grid_gap": null,
            "grid_row": null,
            "grid_template_areas": null,
            "grid_template_columns": null,
            "grid_template_rows": null,
            "height": null,
            "justify_content": null,
            "justify_items": null,
            "left": null,
            "margin": null,
            "max_height": null,
            "max_width": null,
            "min_height": null,
            "min_width": null,
            "object_fit": null,
            "object_position": null,
            "order": null,
            "overflow": null,
            "overflow_x": null,
            "overflow_y": null,
            "padding": null,
            "right": null,
            "top": null,
            "visibility": null,
            "width": null
          }
        },
        "422ed5d11d344142bed19d6e82e88a0c": {
          "model_module": "@jupyter-widgets/controls",
          "model_module_version": "1.5.0",
          "model_name": "HBoxModel",
          "state": {
            "_dom_classes": [],
            "_model_module": "@jupyter-widgets/controls",
            "_model_module_version": "1.5.0",
            "_model_name": "HBoxModel",
            "_view_count": null,
            "_view_module": "@jupyter-widgets/controls",
            "_view_module_version": "1.5.0",
            "_view_name": "HBoxView",
            "box_style": "",
            "children": [
              "IPY_MODEL_221ad9583a564008990e43281adc379e",
              "IPY_MODEL_7ff79b1c128e4a3daa73199a9b36087a",
              "IPY_MODEL_8cda52c069114ffaa3fcebde5decc2df"
            ],
            "layout": "IPY_MODEL_03bba9185f5149b392c9dee3b17d9c8d"
          }
        },
        "428732dce75c4e49be9132203762359b": {
          "model_module": "@jupyter-widgets/controls",
          "model_module_version": "1.5.0",
          "model_name": "DescriptionStyleModel",
          "state": {
            "_model_module": "@jupyter-widgets/controls",
            "_model_module_version": "1.5.0",
            "_model_name": "DescriptionStyleModel",
            "_view_count": null,
            "_view_module": "@jupyter-widgets/base",
            "_view_module_version": "1.2.0",
            "_view_name": "StyleView",
            "description_width": ""
          }
        },
        "4365e772041342ee92e7649a7062751c": {
          "model_module": "@jupyter-widgets/controls",
          "model_module_version": "1.5.0",
          "model_name": "HBoxModel",
          "state": {
            "_dom_classes": [],
            "_model_module": "@jupyter-widgets/controls",
            "_model_module_version": "1.5.0",
            "_model_name": "HBoxModel",
            "_view_count": null,
            "_view_module": "@jupyter-widgets/controls",
            "_view_module_version": "1.5.0",
            "_view_name": "HBoxView",
            "box_style": "",
            "children": [
              "IPY_MODEL_1c1d942b1f16424cbafee8fc37c7db6d",
              "IPY_MODEL_e622992db90f4d47a46f73fdc6a41f74",
              "IPY_MODEL_a5fc144460a34870a2b88d2e61709fb0"
            ],
            "layout": "IPY_MODEL_ad24c5e4afe84283be5d78b48b1cfa71"
          }
        },
        "4795c05af8604a76975b2d22d6938fa0": {
          "model_module": "@jupyter-widgets/base",
          "model_module_version": "1.2.0",
          "model_name": "LayoutModel",
          "state": {
            "_model_module": "@jupyter-widgets/base",
            "_model_module_version": "1.2.0",
            "_model_name": "LayoutModel",
            "_view_count": null,
            "_view_module": "@jupyter-widgets/base",
            "_view_module_version": "1.2.0",
            "_view_name": "LayoutView",
            "align_content": null,
            "align_items": null,
            "align_self": null,
            "border": null,
            "bottom": null,
            "display": "inline-flex",
            "flex": null,
            "flex_flow": "row wrap",
            "grid_area": null,
            "grid_auto_columns": null,
            "grid_auto_flow": null,
            "grid_auto_rows": null,
            "grid_column": null,
            "grid_gap": null,
            "grid_row": null,
            "grid_template_areas": null,
            "grid_template_columns": null,
            "grid_template_rows": null,
            "height": null,
            "justify_content": null,
            "justify_items": null,
            "left": null,
            "margin": null,
            "max_height": null,
            "max_width": null,
            "min_height": null,
            "min_width": null,
            "object_fit": null,
            "object_position": null,
            "order": null,
            "overflow": null,
            "overflow_x": null,
            "overflow_y": null,
            "padding": null,
            "right": null,
            "top": null,
            "visibility": null,
            "width": "100%"
          }
        },
        "4814678276a44d208788e00972abc5a5": {
          "model_module": "@jupyter-widgets/base",
          "model_module_version": "1.2.0",
          "model_name": "LayoutModel",
          "state": {
            "_model_module": "@jupyter-widgets/base",
            "_model_module_version": "1.2.0",
            "_model_name": "LayoutModel",
            "_view_count": null,
            "_view_module": "@jupyter-widgets/base",
            "_view_module_version": "1.2.0",
            "_view_name": "LayoutView",
            "align_content": null,
            "align_items": null,
            "align_self": null,
            "border": null,
            "bottom": null,
            "display": null,
            "flex": "2",
            "flex_flow": null,
            "grid_area": null,
            "grid_auto_columns": null,
            "grid_auto_flow": null,
            "grid_auto_rows": null,
            "grid_column": null,
            "grid_gap": null,
            "grid_row": null,
            "grid_template_areas": null,
            "grid_template_columns": null,
            "grid_template_rows": null,
            "height": null,
            "justify_content": null,
            "justify_items": null,
            "left": null,
            "margin": null,
            "max_height": null,
            "max_width": null,
            "min_height": null,
            "min_width": null,
            "object_fit": null,
            "object_position": null,
            "order": null,
            "overflow": null,
            "overflow_x": null,
            "overflow_y": null,
            "padding": null,
            "right": null,
            "top": null,
            "visibility": null,
            "width": null
          }
        },
        "5089a3dfae824659a1657548deafe562": {
          "model_module": "@jupyter-widgets/controls",
          "model_module_version": "1.5.0",
          "model_name": "ProgressStyleModel",
          "state": {
            "_model_module": "@jupyter-widgets/controls",
            "_model_module_version": "1.5.0",
            "_model_name": "ProgressStyleModel",
            "_view_count": null,
            "_view_module": "@jupyter-widgets/base",
            "_view_module_version": "1.2.0",
            "_view_name": "StyleView",
            "bar_color": null,
            "description_width": ""
          }
        },
        "5d3868ed00f7475aa31fd1e16bdd8c72": {
          "model_module": "@jupyter-widgets/controls",
          "model_module_version": "1.5.0",
          "model_name": "HTMLModel",
          "state": {
            "_dom_classes": [],
            "_model_module": "@jupyter-widgets/controls",
            "_model_module_version": "1.5.0",
            "_model_name": "HTMLModel",
            "_view_count": null,
            "_view_module": "@jupyter-widgets/controls",
            "_view_module_version": "1.5.0",
            "_view_name": "HTMLView",
            "description": "",
            "description_tooltip": null,
            "layout": "IPY_MODEL_c263caafdf864b52868e96be555e3e23",
            "placeholder": "​",
            "style": "IPY_MODEL_26b0416c6ae947718d225bf61ee3b5c9",
            "value": " 99996/100000 [09:29&lt;00:00, 171.45call/s]"
          }
        },
        "7847af26f8ee4d77b726dce92eea7ff8": {
          "model_module": "@jupyter-widgets/base",
          "model_module_version": "1.2.0",
          "model_name": "LayoutModel",
          "state": {
            "_model_module": "@jupyter-widgets/base",
            "_model_module_version": "1.2.0",
            "_model_name": "LayoutModel",
            "_view_count": null,
            "_view_module": "@jupyter-widgets/base",
            "_view_module_version": "1.2.0",
            "_view_name": "LayoutView",
            "align_content": null,
            "align_items": null,
            "align_self": null,
            "border": null,
            "bottom": null,
            "display": null,
            "flex": null,
            "flex_flow": null,
            "grid_area": null,
            "grid_auto_columns": null,
            "grid_auto_flow": null,
            "grid_auto_rows": null,
            "grid_column": null,
            "grid_gap": null,
            "grid_row": null,
            "grid_template_areas": null,
            "grid_template_columns": null,
            "grid_template_rows": null,
            "height": null,
            "justify_content": null,
            "justify_items": null,
            "left": null,
            "margin": null,
            "max_height": null,
            "max_width": null,
            "min_height": null,
            "min_width": null,
            "object_fit": null,
            "object_position": null,
            "order": null,
            "overflow": null,
            "overflow_x": null,
            "overflow_y": null,
            "padding": null,
            "right": null,
            "top": null,
            "visibility": null,
            "width": null
          }
        },
        "79ee99666e1f4d98bfe89c70b32f04d1": {
          "model_module": "@jupyter-widgets/controls",
          "model_module_version": "1.5.0",
          "model_name": "HTMLModel",
          "state": {
            "_dom_classes": [],
            "_model_module": "@jupyter-widgets/controls",
            "_model_module_version": "1.5.0",
            "_model_name": "HTMLModel",
            "_view_count": null,
            "_view_module": "@jupyter-widgets/controls",
            "_view_module_version": "1.5.0",
            "_view_name": "HTMLView",
            "description": "",
            "description_tooltip": null,
            "layout": "IPY_MODEL_85b8665474444a2b8003415133d789a5",
            "placeholder": "​",
            "style": "IPY_MODEL_428732dce75c4e49be9132203762359b",
            "value": "LS-GD oracle calls: 100%"
          }
        },
        "7ff79b1c128e4a3daa73199a9b36087a": {
          "model_module": "@jupyter-widgets/controls",
          "model_module_version": "1.5.0",
          "model_name": "FloatProgressModel",
          "state": {
            "_dom_classes": [],
            "_model_module": "@jupyter-widgets/controls",
            "_model_module_version": "1.5.0",
            "_model_name": "FloatProgressModel",
            "_view_count": null,
            "_view_module": "@jupyter-widgets/controls",
            "_view_module_version": "1.5.0",
            "_view_name": "ProgressView",
            "bar_style": "success",
            "description": "",
            "description_tooltip": null,
            "layout": "IPY_MODEL_16156affa6814aa39261e342542ce0be",
            "max": 100000,
            "min": 0,
            "orientation": "horizontal",
            "style": "IPY_MODEL_3e224d0efe65476e8e530bbe305eb1e0",
            "value": 100000
          }
        },
        "80cd56c030894cb8bc3c306b035196f8": {
          "model_module": "@jupyter-widgets/controls",
          "model_module_version": "1.5.0",
          "model_name": "ProgressStyleModel",
          "state": {
            "_model_module": "@jupyter-widgets/controls",
            "_model_module_version": "1.5.0",
            "_model_name": "ProgressStyleModel",
            "_view_count": null,
            "_view_module": "@jupyter-widgets/base",
            "_view_module_version": "1.2.0",
            "_view_name": "StyleView",
            "bar_color": null,
            "description_width": ""
          }
        },
        "85b8665474444a2b8003415133d789a5": {
          "model_module": "@jupyter-widgets/base",
          "model_module_version": "1.2.0",
          "model_name": "LayoutModel",
          "state": {
            "_model_module": "@jupyter-widgets/base",
            "_model_module_version": "1.2.0",
            "_model_name": "LayoutModel",
            "_view_count": null,
            "_view_module": "@jupyter-widgets/base",
            "_view_module_version": "1.2.0",
            "_view_name": "LayoutView",
            "align_content": null,
            "align_items": null,
            "align_self": null,
            "border": null,
            "bottom": null,
            "display": null,
            "flex": null,
            "flex_flow": null,
            "grid_area": null,
            "grid_auto_columns": null,
            "grid_auto_flow": null,
            "grid_auto_rows": null,
            "grid_column": null,
            "grid_gap": null,
            "grid_row": null,
            "grid_template_areas": null,
            "grid_template_columns": null,
            "grid_template_rows": null,
            "height": null,
            "justify_content": null,
            "justify_items": null,
            "left": null,
            "margin": null,
            "max_height": null,
            "max_width": null,
            "min_height": null,
            "min_width": null,
            "object_fit": null,
            "object_position": null,
            "order": null,
            "overflow": null,
            "overflow_x": null,
            "overflow_y": null,
            "padding": null,
            "right": null,
            "top": null,
            "visibility": null,
            "width": null
          }
        },
        "89a1dfa78c0c4313980d802472fd613b": {
          "model_module": "@jupyter-widgets/controls",
          "model_module_version": "1.5.0",
          "model_name": "DescriptionStyleModel",
          "state": {
            "_model_module": "@jupyter-widgets/controls",
            "_model_module_version": "1.5.0",
            "_model_name": "DescriptionStyleModel",
            "_view_count": null,
            "_view_module": "@jupyter-widgets/base",
            "_view_module_version": "1.2.0",
            "_view_name": "StyleView",
            "description_width": ""
          }
        },
        "8cda52c069114ffaa3fcebde5decc2df": {
          "model_module": "@jupyter-widgets/controls",
          "model_module_version": "1.5.0",
          "model_name": "HTMLModel",
          "state": {
            "_dom_classes": [],
            "_model_module": "@jupyter-widgets/controls",
            "_model_module_version": "1.5.0",
            "_model_name": "HTMLModel",
            "_view_count": null,
            "_view_module": "@jupyter-widgets/controls",
            "_view_module_version": "1.5.0",
            "_view_name": "HTMLView",
            "description": "",
            "description_tooltip": null,
            "layout": "IPY_MODEL_e6571e67a0474ec29504c97c1797c2e4",
            "placeholder": "​",
            "style": "IPY_MODEL_b1535d5203b7403fa0e16bede132f422",
            "value": " 100000/100000 [13:35&lt;00:00, 127.44call/s]"
          }
        },
        "9100e33cb3764196a47b264dae719d8b": {
          "model_module": "@jupyter-widgets/controls",
          "model_module_version": "1.5.0",
          "model_name": "FloatProgressModel",
          "state": {
            "_dom_classes": [],
            "_model_module": "@jupyter-widgets/controls",
            "_model_module_version": "1.5.0",
            "_model_name": "FloatProgressModel",
            "_view_count": null,
            "_view_module": "@jupyter-widgets/controls",
            "_view_module_version": "1.5.0",
            "_view_name": "ProgressView",
            "bar_style": "danger",
            "description": "",
            "description_tooltip": null,
            "layout": "IPY_MODEL_bc46e49ca97e4185948c9c4963f1f015",
            "max": 100000,
            "min": 0,
            "orientation": "horizontal",
            "style": "IPY_MODEL_ea4bb08604a64dc48c17cba45cd1943e",
            "value": 99999
          }
        },
        "925f5e7f56c54d9caff2692111ca5ff3": {
          "model_module": "@jupyter-widgets/controls",
          "model_module_version": "1.5.0",
          "model_name": "ProgressStyleModel",
          "state": {
            "_model_module": "@jupyter-widgets/controls",
            "_model_module_version": "1.5.0",
            "_model_name": "ProgressStyleModel",
            "_view_count": null,
            "_view_module": "@jupyter-widgets/base",
            "_view_module_version": "1.2.0",
            "_view_name": "StyleView",
            "bar_color": null,
            "description_width": ""
          }
        },
        "a42ec914541941e6869d6d84b167b85f": {
          "model_module": "@jupyter-widgets/controls",
          "model_module_version": "1.5.0",
          "model_name": "DescriptionStyleModel",
          "state": {
            "_model_module": "@jupyter-widgets/controls",
            "_model_module_version": "1.5.0",
            "_model_name": "DescriptionStyleModel",
            "_view_count": null,
            "_view_module": "@jupyter-widgets/base",
            "_view_module_version": "1.2.0",
            "_view_name": "StyleView",
            "description_width": ""
          }
        },
        "a5fc144460a34870a2b88d2e61709fb0": {
          "model_module": "@jupyter-widgets/controls",
          "model_module_version": "1.5.0",
          "model_name": "HTMLModel",
          "state": {
            "_dom_classes": [],
            "_model_module": "@jupyter-widgets/controls",
            "_model_module_version": "1.5.0",
            "_model_name": "HTMLModel",
            "_view_count": null,
            "_view_module": "@jupyter-widgets/controls",
            "_view_module_version": "1.5.0",
            "_view_name": "HTMLView",
            "description": "",
            "description_tooltip": null,
            "layout": "IPY_MODEL_b3d513795b0542408f4ce8f1676592b6",
            "placeholder": "​",
            "style": "IPY_MODEL_ee75d5c42e704b59b30a19a4182e32df",
            "value": " 100002/? [16:59&lt;00:00, 93.12call/s]"
          }
        },
        "ad24c5e4afe84283be5d78b48b1cfa71": {
          "model_module": "@jupyter-widgets/base",
          "model_module_version": "1.2.0",
          "model_name": "LayoutModel",
          "state": {
            "_model_module": "@jupyter-widgets/base",
            "_model_module_version": "1.2.0",
            "_model_name": "LayoutModel",
            "_view_count": null,
            "_view_module": "@jupyter-widgets/base",
            "_view_module_version": "1.2.0",
            "_view_name": "LayoutView",
            "align_content": null,
            "align_items": null,
            "align_self": null,
            "border": null,
            "bottom": null,
            "display": "inline-flex",
            "flex": null,
            "flex_flow": "row wrap",
            "grid_area": null,
            "grid_auto_columns": null,
            "grid_auto_flow": null,
            "grid_auto_rows": null,
            "grid_column": null,
            "grid_gap": null,
            "grid_row": null,
            "grid_template_areas": null,
            "grid_template_columns": null,
            "grid_template_rows": null,
            "height": null,
            "justify_content": null,
            "justify_items": null,
            "left": null,
            "margin": null,
            "max_height": null,
            "max_width": null,
            "min_height": null,
            "min_width": null,
            "object_fit": null,
            "object_position": null,
            "order": null,
            "overflow": null,
            "overflow_x": null,
            "overflow_y": null,
            "padding": null,
            "right": null,
            "top": null,
            "visibility": null,
            "width": "100%"
          }
        },
        "b1535d5203b7403fa0e16bede132f422": {
          "model_module": "@jupyter-widgets/controls",
          "model_module_version": "1.5.0",
          "model_name": "DescriptionStyleModel",
          "state": {
            "_model_module": "@jupyter-widgets/controls",
            "_model_module_version": "1.5.0",
            "_model_name": "DescriptionStyleModel",
            "_view_count": null,
            "_view_module": "@jupyter-widgets/base",
            "_view_module_version": "1.2.0",
            "_view_name": "StyleView",
            "description_width": ""
          }
        },
        "b3d513795b0542408f4ce8f1676592b6": {
          "model_module": "@jupyter-widgets/base",
          "model_module_version": "1.2.0",
          "model_name": "LayoutModel",
          "state": {
            "_model_module": "@jupyter-widgets/base",
            "_model_module_version": "1.2.0",
            "_model_name": "LayoutModel",
            "_view_count": null,
            "_view_module": "@jupyter-widgets/base",
            "_view_module_version": "1.2.0",
            "_view_name": "LayoutView",
            "align_content": null,
            "align_items": null,
            "align_self": null,
            "border": null,
            "bottom": null,
            "display": null,
            "flex": null,
            "flex_flow": null,
            "grid_area": null,
            "grid_auto_columns": null,
            "grid_auto_flow": null,
            "grid_auto_rows": null,
            "grid_column": null,
            "grid_gap": null,
            "grid_row": null,
            "grid_template_areas": null,
            "grid_template_columns": null,
            "grid_template_rows": null,
            "height": null,
            "justify_content": null,
            "justify_items": null,
            "left": null,
            "margin": null,
            "max_height": null,
            "max_width": null,
            "min_height": null,
            "min_width": null,
            "object_fit": null,
            "object_position": null,
            "order": null,
            "overflow": null,
            "overflow_x": null,
            "overflow_y": null,
            "padding": null,
            "right": null,
            "top": null,
            "visibility": null,
            "width": null
          }
        },
        "b7e5ebde311c4453a709fbad71b3f5fa": {
          "model_module": "@jupyter-widgets/base",
          "model_module_version": "1.2.0",
          "model_name": "LayoutModel",
          "state": {
            "_model_module": "@jupyter-widgets/base",
            "_model_module_version": "1.2.0",
            "_model_name": "LayoutModel",
            "_view_count": null,
            "_view_module": "@jupyter-widgets/base",
            "_view_module_version": "1.2.0",
            "_view_name": "LayoutView",
            "align_content": null,
            "align_items": null,
            "align_self": null,
            "border": null,
            "bottom": null,
            "display": null,
            "flex": null,
            "flex_flow": null,
            "grid_area": null,
            "grid_auto_columns": null,
            "grid_auto_flow": null,
            "grid_auto_rows": null,
            "grid_column": null,
            "grid_gap": null,
            "grid_row": null,
            "grid_template_areas": null,
            "grid_template_columns": null,
            "grid_template_rows": null,
            "height": null,
            "justify_content": null,
            "justify_items": null,
            "left": null,
            "margin": null,
            "max_height": null,
            "max_width": null,
            "min_height": null,
            "min_width": null,
            "object_fit": null,
            "object_position": null,
            "order": null,
            "overflow": null,
            "overflow_x": null,
            "overflow_y": null,
            "padding": null,
            "right": null,
            "top": null,
            "visibility": null,
            "width": null
          }
        },
        "bc46e49ca97e4185948c9c4963f1f015": {
          "model_module": "@jupyter-widgets/base",
          "model_module_version": "1.2.0",
          "model_name": "LayoutModel",
          "state": {
            "_model_module": "@jupyter-widgets/base",
            "_model_module_version": "1.2.0",
            "_model_name": "LayoutModel",
            "_view_count": null,
            "_view_module": "@jupyter-widgets/base",
            "_view_module_version": "1.2.0",
            "_view_name": "LayoutView",
            "align_content": null,
            "align_items": null,
            "align_self": null,
            "border": null,
            "bottom": null,
            "display": null,
            "flex": "2",
            "flex_flow": null,
            "grid_area": null,
            "grid_auto_columns": null,
            "grid_auto_flow": null,
            "grid_auto_rows": null,
            "grid_column": null,
            "grid_gap": null,
            "grid_row": null,
            "grid_template_areas": null,
            "grid_template_columns": null,
            "grid_template_rows": null,
            "height": null,
            "justify_content": null,
            "justify_items": null,
            "left": null,
            "margin": null,
            "max_height": null,
            "max_width": null,
            "min_height": null,
            "min_width": null,
            "object_fit": null,
            "object_position": null,
            "order": null,
            "overflow": null,
            "overflow_x": null,
            "overflow_y": null,
            "padding": null,
            "right": null,
            "top": null,
            "visibility": null,
            "width": null
          }
        },
        "bd2b25baf4624b299a99ecef5bf0941b": {
          "model_module": "@jupyter-widgets/controls",
          "model_module_version": "1.5.0",
          "model_name": "HBoxModel",
          "state": {
            "_dom_classes": [],
            "_model_module": "@jupyter-widgets/controls",
            "_model_module_version": "1.5.0",
            "_model_name": "HBoxModel",
            "_view_count": null,
            "_view_module": "@jupyter-widgets/controls",
            "_view_module_version": "1.5.0",
            "_view_name": "HBoxView",
            "box_style": "",
            "children": [
              "IPY_MODEL_fb7d9f9770c84e449c14219eb564b565",
              "IPY_MODEL_283b012b2b0e46fcaaa3e6a5f2db7e85",
              "IPY_MODEL_07eb539d51f84d6eb0fe5f4453a23bc7"
            ],
            "layout": "IPY_MODEL_cfeec9e4df8e48cd914fadb016ec56cf"
          }
        },
        "be94a09cba7d4a52a381c76a590475f4": {
          "model_module": "@jupyter-widgets/base",
          "model_module_version": "1.2.0",
          "model_name": "LayoutModel",
          "state": {
            "_model_module": "@jupyter-widgets/base",
            "_model_module_version": "1.2.0",
            "_model_name": "LayoutModel",
            "_view_count": null,
            "_view_module": "@jupyter-widgets/base",
            "_view_module_version": "1.2.0",
            "_view_name": "LayoutView",
            "align_content": null,
            "align_items": null,
            "align_self": null,
            "border": null,
            "bottom": null,
            "display": null,
            "flex": null,
            "flex_flow": null,
            "grid_area": null,
            "grid_auto_columns": null,
            "grid_auto_flow": null,
            "grid_auto_rows": null,
            "grid_column": null,
            "grid_gap": null,
            "grid_row": null,
            "grid_template_areas": null,
            "grid_template_columns": null,
            "grid_template_rows": null,
            "height": null,
            "justify_content": null,
            "justify_items": null,
            "left": null,
            "margin": null,
            "max_height": null,
            "max_width": null,
            "min_height": null,
            "min_width": null,
            "object_fit": null,
            "object_position": null,
            "order": null,
            "overflow": null,
            "overflow_x": null,
            "overflow_y": null,
            "padding": null,
            "right": null,
            "top": null,
            "visibility": null,
            "width": null
          }
        },
        "bf54672dd423445b9321da34229f6136": {
          "model_module": "@jupyter-widgets/controls",
          "model_module_version": "1.5.0",
          "model_name": "HTMLModel",
          "state": {
            "_dom_classes": [],
            "_model_module": "@jupyter-widgets/controls",
            "_model_module_version": "1.5.0",
            "_model_name": "HTMLModel",
            "_view_count": null,
            "_view_module": "@jupyter-widgets/controls",
            "_view_module_version": "1.5.0",
            "_view_name": "HTMLView",
            "description": "",
            "description_tooltip": null,
            "layout": "IPY_MODEL_2f0c0337c09048328744598a3232874d",
            "placeholder": "​",
            "style": "IPY_MODEL_cda9c8a65fa04df882b92def3d11415e",
            "value": "Adam oracle calls: 100%"
          }
        },
        "c263caafdf864b52868e96be555e3e23": {
          "model_module": "@jupyter-widgets/base",
          "model_module_version": "1.2.0",
          "model_name": "LayoutModel",
          "state": {
            "_model_module": "@jupyter-widgets/base",
            "_model_module_version": "1.2.0",
            "_model_name": "LayoutModel",
            "_view_count": null,
            "_view_module": "@jupyter-widgets/base",
            "_view_module_version": "1.2.0",
            "_view_name": "LayoutView",
            "align_content": null,
            "align_items": null,
            "align_self": null,
            "border": null,
            "bottom": null,
            "display": null,
            "flex": null,
            "flex_flow": null,
            "grid_area": null,
            "grid_auto_columns": null,
            "grid_auto_flow": null,
            "grid_auto_rows": null,
            "grid_column": null,
            "grid_gap": null,
            "grid_row": null,
            "grid_template_areas": null,
            "grid_template_columns": null,
            "grid_template_rows": null,
            "height": null,
            "justify_content": null,
            "justify_items": null,
            "left": null,
            "margin": null,
            "max_height": null,
            "max_width": null,
            "min_height": null,
            "min_width": null,
            "object_fit": null,
            "object_position": null,
            "order": null,
            "overflow": null,
            "overflow_x": null,
            "overflow_y": null,
            "padding": null,
            "right": null,
            "top": null,
            "visibility": null,
            "width": null
          }
        },
        "c8a40b53b6b448fc89735e270529be56": {
          "model_module": "@jupyter-widgets/controls",
          "model_module_version": "1.5.0",
          "model_name": "DescriptionStyleModel",
          "state": {
            "_model_module": "@jupyter-widgets/controls",
            "_model_module_version": "1.5.0",
            "_model_name": "DescriptionStyleModel",
            "_view_count": null,
            "_view_module": "@jupyter-widgets/base",
            "_view_module_version": "1.2.0",
            "_view_name": "StyleView",
            "description_width": ""
          }
        },
        "cda9c8a65fa04df882b92def3d11415e": {
          "model_module": "@jupyter-widgets/controls",
          "model_module_version": "1.5.0",
          "model_name": "DescriptionStyleModel",
          "state": {
            "_model_module": "@jupyter-widgets/controls",
            "_model_module_version": "1.5.0",
            "_model_name": "DescriptionStyleModel",
            "_view_count": null,
            "_view_module": "@jupyter-widgets/base",
            "_view_module_version": "1.2.0",
            "_view_name": "StyleView",
            "description_width": ""
          }
        },
        "cedcd7e0ab5d49de9c883518512efd01": {
          "model_module": "@jupyter-widgets/controls",
          "model_module_version": "1.5.0",
          "model_name": "HTMLModel",
          "state": {
            "_dom_classes": [],
            "_model_module": "@jupyter-widgets/controls",
            "_model_module_version": "1.5.0",
            "_model_name": "HTMLModel",
            "_view_count": null,
            "_view_module": "@jupyter-widgets/controls",
            "_view_module_version": "1.5.0",
            "_view_name": "HTMLView",
            "description": "",
            "description_tooltip": null,
            "layout": "IPY_MODEL_3cb7bdcacf5a4ff6a2a16bdbac7a4b97",
            "placeholder": "​",
            "style": "IPY_MODEL_89a1dfa78c0c4313980d802472fd613b",
            "value": " 99999/100000 [15:31&lt;00:00, 108.82call/s]"
          }
        },
        "cfeec9e4df8e48cd914fadb016ec56cf": {
          "model_module": "@jupyter-widgets/base",
          "model_module_version": "1.2.0",
          "model_name": "LayoutModel",
          "state": {
            "_model_module": "@jupyter-widgets/base",
            "_model_module_version": "1.2.0",
            "_model_name": "LayoutModel",
            "_view_count": null,
            "_view_module": "@jupyter-widgets/base",
            "_view_module_version": "1.2.0",
            "_view_name": "LayoutView",
            "align_content": null,
            "align_items": null,
            "align_self": null,
            "border": null,
            "bottom": null,
            "display": "inline-flex",
            "flex": null,
            "flex_flow": "row wrap",
            "grid_area": null,
            "grid_auto_columns": null,
            "grid_auto_flow": null,
            "grid_auto_rows": null,
            "grid_column": null,
            "grid_gap": null,
            "grid_row": null,
            "grid_template_areas": null,
            "grid_template_columns": null,
            "grid_template_rows": null,
            "height": null,
            "justify_content": null,
            "justify_items": null,
            "left": null,
            "margin": null,
            "max_height": null,
            "max_width": null,
            "min_height": null,
            "min_width": null,
            "object_fit": null,
            "object_position": null,
            "order": null,
            "overflow": null,
            "overflow_x": null,
            "overflow_y": null,
            "padding": null,
            "right": null,
            "top": null,
            "visibility": null,
            "width": "100%"
          }
        },
        "d5e685f3ab3f46c586b4e47110d4759a": {
          "model_module": "@jupyter-widgets/base",
          "model_module_version": "1.2.0",
          "model_name": "LayoutModel",
          "state": {
            "_model_module": "@jupyter-widgets/base",
            "_model_module_version": "1.2.0",
            "_model_name": "LayoutModel",
            "_view_count": null,
            "_view_module": "@jupyter-widgets/base",
            "_view_module_version": "1.2.0",
            "_view_name": "LayoutView",
            "align_content": null,
            "align_items": null,
            "align_self": null,
            "border": null,
            "bottom": null,
            "display": null,
            "flex": "2",
            "flex_flow": null,
            "grid_area": null,
            "grid_auto_columns": null,
            "grid_auto_flow": null,
            "grid_auto_rows": null,
            "grid_column": null,
            "grid_gap": null,
            "grid_row": null,
            "grid_template_areas": null,
            "grid_template_columns": null,
            "grid_template_rows": null,
            "height": null,
            "justify_content": null,
            "justify_items": null,
            "left": null,
            "margin": null,
            "max_height": null,
            "max_width": null,
            "min_height": null,
            "min_width": null,
            "object_fit": null,
            "object_position": null,
            "order": null,
            "overflow": null,
            "overflow_x": null,
            "overflow_y": null,
            "padding": null,
            "right": null,
            "top": null,
            "visibility": null,
            "width": null
          }
        },
        "d9cd8383dd154fddbc29265a9e1e9790": {
          "model_module": "@jupyter-widgets/controls",
          "model_module_version": "1.5.0",
          "model_name": "HBoxModel",
          "state": {
            "_dom_classes": [],
            "_model_module": "@jupyter-widgets/controls",
            "_model_module_version": "1.5.0",
            "_model_name": "HBoxModel",
            "_view_count": null,
            "_view_module": "@jupyter-widgets/controls",
            "_view_module_version": "1.5.0",
            "_view_name": "HBoxView",
            "box_style": "",
            "children": [
              "IPY_MODEL_79ee99666e1f4d98bfe89c70b32f04d1",
              "IPY_MODEL_f2474ca66a994980aec34c487e1a06de",
              "IPY_MODEL_5d3868ed00f7475aa31fd1e16bdd8c72"
            ],
            "layout": "IPY_MODEL_e3f364c4c0304612878eda046125daa4"
          }
        },
        "e3f364c4c0304612878eda046125daa4": {
          "model_module": "@jupyter-widgets/base",
          "model_module_version": "1.2.0",
          "model_name": "LayoutModel",
          "state": {
            "_model_module": "@jupyter-widgets/base",
            "_model_module_version": "1.2.0",
            "_model_name": "LayoutModel",
            "_view_count": null,
            "_view_module": "@jupyter-widgets/base",
            "_view_module_version": "1.2.0",
            "_view_name": "LayoutView",
            "align_content": null,
            "align_items": null,
            "align_self": null,
            "border": null,
            "bottom": null,
            "display": "inline-flex",
            "flex": null,
            "flex_flow": "row wrap",
            "grid_area": null,
            "grid_auto_columns": null,
            "grid_auto_flow": null,
            "grid_auto_rows": null,
            "grid_column": null,
            "grid_gap": null,
            "grid_row": null,
            "grid_template_areas": null,
            "grid_template_columns": null,
            "grid_template_rows": null,
            "height": null,
            "justify_content": null,
            "justify_items": null,
            "left": null,
            "margin": null,
            "max_height": null,
            "max_width": null,
            "min_height": null,
            "min_width": null,
            "object_fit": null,
            "object_position": null,
            "order": null,
            "overflow": null,
            "overflow_x": null,
            "overflow_y": null,
            "padding": null,
            "right": null,
            "top": null,
            "visibility": "hidden",
            "width": "100%"
          }
        },
        "e622992db90f4d47a46f73fdc6a41f74": {
          "model_module": "@jupyter-widgets/controls",
          "model_module_version": "1.5.0",
          "model_name": "FloatProgressModel",
          "state": {
            "_dom_classes": [],
            "_model_module": "@jupyter-widgets/controls",
            "_model_module_version": "1.5.0",
            "_model_name": "FloatProgressModel",
            "_view_count": null,
            "_view_module": "@jupyter-widgets/controls",
            "_view_module_version": "1.5.0",
            "_view_name": "ProgressView",
            "bar_style": "success",
            "description": "",
            "description_tooltip": null,
            "layout": "IPY_MODEL_4009f7959b414c7784d96f8268a12420",
            "max": 100000,
            "min": 0,
            "orientation": "horizontal",
            "style": "IPY_MODEL_925f5e7f56c54d9caff2692111ca5ff3",
            "value": 100000
          }
        },
        "e6571e67a0474ec29504c97c1797c2e4": {
          "model_module": "@jupyter-widgets/base",
          "model_module_version": "1.2.0",
          "model_name": "LayoutModel",
          "state": {
            "_model_module": "@jupyter-widgets/base",
            "_model_module_version": "1.2.0",
            "_model_name": "LayoutModel",
            "_view_count": null,
            "_view_module": "@jupyter-widgets/base",
            "_view_module_version": "1.2.0",
            "_view_name": "LayoutView",
            "align_content": null,
            "align_items": null,
            "align_self": null,
            "border": null,
            "bottom": null,
            "display": null,
            "flex": null,
            "flex_flow": null,
            "grid_area": null,
            "grid_auto_columns": null,
            "grid_auto_flow": null,
            "grid_auto_rows": null,
            "grid_column": null,
            "grid_gap": null,
            "grid_row": null,
            "grid_template_areas": null,
            "grid_template_columns": null,
            "grid_template_rows": null,
            "height": null,
            "justify_content": null,
            "justify_items": null,
            "left": null,
            "margin": null,
            "max_height": null,
            "max_width": null,
            "min_height": null,
            "min_width": null,
            "object_fit": null,
            "object_position": null,
            "order": null,
            "overflow": null,
            "overflow_x": null,
            "overflow_y": null,
            "padding": null,
            "right": null,
            "top": null,
            "visibility": null,
            "width": null
          }
        },
        "ea4bb08604a64dc48c17cba45cd1943e": {
          "model_module": "@jupyter-widgets/controls",
          "model_module_version": "1.5.0",
          "model_name": "ProgressStyleModel",
          "state": {
            "_model_module": "@jupyter-widgets/controls",
            "_model_module_version": "1.5.0",
            "_model_name": "ProgressStyleModel",
            "_view_count": null,
            "_view_module": "@jupyter-widgets/base",
            "_view_module_version": "1.2.0",
            "_view_name": "StyleView",
            "bar_color": null,
            "description_width": ""
          }
        },
        "edaa716e78424b8ea4882c6e2b60ed54": {
          "model_module": "@jupyter-widgets/controls",
          "model_module_version": "1.5.0",
          "model_name": "DescriptionStyleModel",
          "state": {
            "_model_module": "@jupyter-widgets/controls",
            "_model_module_version": "1.5.0",
            "_model_name": "DescriptionStyleModel",
            "_view_count": null,
            "_view_module": "@jupyter-widgets/base",
            "_view_module_version": "1.2.0",
            "_view_name": "StyleView",
            "description_width": ""
          }
        },
        "ee75d5c42e704b59b30a19a4182e32df": {
          "model_module": "@jupyter-widgets/controls",
          "model_module_version": "1.5.0",
          "model_name": "DescriptionStyleModel",
          "state": {
            "_model_module": "@jupyter-widgets/controls",
            "_model_module_version": "1.5.0",
            "_model_name": "DescriptionStyleModel",
            "_view_count": null,
            "_view_module": "@jupyter-widgets/base",
            "_view_module_version": "1.2.0",
            "_view_name": "StyleView",
            "description_width": ""
          }
        },
        "f2474ca66a994980aec34c487e1a06de": {
          "model_module": "@jupyter-widgets/controls",
          "model_module_version": "1.5.0",
          "model_name": "FloatProgressModel",
          "state": {
            "_dom_classes": [],
            "_model_module": "@jupyter-widgets/controls",
            "_model_module_version": "1.5.0",
            "_model_name": "FloatProgressModel",
            "_view_count": null,
            "_view_module": "@jupyter-widgets/controls",
            "_view_module_version": "1.5.0",
            "_view_name": "ProgressView",
            "bar_style": "",
            "description": "",
            "description_tooltip": null,
            "layout": "IPY_MODEL_4814678276a44d208788e00972abc5a5",
            "max": 100000,
            "min": 0,
            "orientation": "horizontal",
            "style": "IPY_MODEL_5089a3dfae824659a1657548deafe562",
            "value": 100000
          }
        },
        "fb7d9f9770c84e449c14219eb564b565": {
          "model_module": "@jupyter-widgets/controls",
          "model_module_version": "1.5.0",
          "model_name": "HTMLModel",
          "state": {
            "_dom_classes": [],
            "_model_module": "@jupyter-widgets/controls",
            "_model_module_version": "1.5.0",
            "_model_name": "HTMLModel",
            "_view_count": null,
            "_view_module": "@jupyter-widgets/controls",
            "_view_module_version": "1.5.0",
            "_view_name": "HTMLView",
            "description": "",
            "description_tooltip": null,
            "layout": "IPY_MODEL_0c38cdda53d843ef992797ae715c68a9",
            "placeholder": "​",
            "style": "IPY_MODEL_a42ec914541941e6869d6d84b167b85f",
            "value": "GD oracle calls: 100%"
          }
        },
        "fc8c08d5ac9e47f98501193e33a14088": {
          "model_module": "@jupyter-widgets/controls",
          "model_module_version": "1.5.0",
          "model_name": "HBoxModel",
          "state": {
            "_dom_classes": [],
            "_model_module": "@jupyter-widgets/controls",
            "_model_module_version": "1.5.0",
            "_model_name": "HBoxModel",
            "_view_count": null,
            "_view_module": "@jupyter-widgets/controls",
            "_view_module_version": "1.5.0",
            "_view_name": "HBoxView",
            "box_style": "",
            "children": [
              "IPY_MODEL_bf54672dd423445b9321da34229f6136",
              "IPY_MODEL_9100e33cb3764196a47b264dae719d8b",
              "IPY_MODEL_cedcd7e0ab5d49de9c883518512efd01"
            ],
            "layout": "IPY_MODEL_4795c05af8604a76975b2d22d6938fa0"
          }
        }
      }
    }
  },
  "nbformat": 4,
  "nbformat_minor": 5
}
